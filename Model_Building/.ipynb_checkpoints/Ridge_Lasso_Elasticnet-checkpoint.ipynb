{
 "cells": [
  {
   "cell_type": "markdown",
   "id": "df7f0289",
   "metadata": {},
   "source": [
    "## Ridge , Lasso, Elasticnet with companyName"
   ]
  },
  {
   "cell_type": "code",
   "execution_count": 1,
   "id": "545a99d5",
   "metadata": {},
   "outputs": [],
   "source": [
    "import pandas as pd\n",
    "import numpy as np\n",
    "from sklearn.model_selection import train_test_split \n",
    "from sklearn.preprocessing import OneHotEncoder\n",
    "from sklearn.compose import make_column_transformer,make_column_selector\n",
    "from sklearn.model_selection import StratifiedKFold, GridSearchCV\n",
    "from sklearn.metrics import r2_score\n",
    "\n",
    "\n",
    "import warnings\n",
    "warnings.filterwarnings(\"ignore\")"
   ]
  },
  {
   "cell_type": "code",
   "execution_count": 2,
   "id": "24cf1bf5",
   "metadata": {},
   "outputs": [],
   "source": [
    "df=pd.read_csv(\"../Dataset/ProcessedFile.csv\")"
   ]
  },
  {
   "cell_type": "code",
   "execution_count": 3,
   "id": "27670e71",
   "metadata": {},
   "outputs": [
    {
     "data": {
      "text/html": [
       "<div>\n",
       "<style scoped>\n",
       "    .dataframe tbody tr th:only-of-type {\n",
       "        vertical-align: middle;\n",
       "    }\n",
       "\n",
       "    .dataframe tbody tr th {\n",
       "        vertical-align: top;\n",
       "    }\n",
       "\n",
       "    .dataframe thead th {\n",
       "        text-align: right;\n",
       "    }\n",
       "</style>\n",
       "<table border=\"1\" class=\"dataframe\">\n",
       "  <thead>\n",
       "    <tr style=\"text-align: right;\">\n",
       "      <th></th>\n",
       "      <th>size_sq_ft</th>\n",
       "      <th>propertyType</th>\n",
       "      <th>bedrooms</th>\n",
       "      <th>latitude</th>\n",
       "      <th>longitude</th>\n",
       "      <th>localityName</th>\n",
       "      <th>suburbName</th>\n",
       "      <th>companyName</th>\n",
       "      <th>closest_metro_station_km</th>\n",
       "      <th>AP_dist_km</th>\n",
       "      <th>Aiims_dist_km</th>\n",
       "      <th>NDRLW_dist_km</th>\n",
       "      <th>price</th>\n",
       "    </tr>\n",
       "  </thead>\n",
       "  <tbody>\n",
       "    <tr>\n",
       "      <th>0</th>\n",
       "      <td>400</td>\n",
       "      <td>Independent Floor</td>\n",
       "      <td>1</td>\n",
       "      <td>28.641010</td>\n",
       "      <td>77.284386</td>\n",
       "      <td>Swasthya Vihar</td>\n",
       "      <td>East Delhi</td>\n",
       "      <td>Other</td>\n",
       "      <td>0.577495</td>\n",
       "      <td>21.741188</td>\n",
       "      <td>11.119239</td>\n",
       "      <td>6.227231</td>\n",
       "      <td>9000</td>\n",
       "    </tr>\n",
       "    <tr>\n",
       "      <th>1</th>\n",
       "      <td>1050</td>\n",
       "      <td>Apartment</td>\n",
       "      <td>2</td>\n",
       "      <td>28.594969</td>\n",
       "      <td>77.298668</td>\n",
       "      <td>mayur vihar phase 1</td>\n",
       "      <td>East Delhi</td>\n",
       "      <td>Other</td>\n",
       "      <td>0.417142</td>\n",
       "      <td>21.401856</td>\n",
       "      <td>9.419061</td>\n",
       "      <td>9.217502</td>\n",
       "      <td>20000</td>\n",
       "    </tr>\n",
       "    <tr>\n",
       "      <th>2</th>\n",
       "      <td>2250</td>\n",
       "      <td>Independent Floor</td>\n",
       "      <td>2</td>\n",
       "      <td>28.641806</td>\n",
       "      <td>77.293922</td>\n",
       "      <td>Swasthya Vihar</td>\n",
       "      <td>East Delhi</td>\n",
       "      <td>Other</td>\n",
       "      <td>0.125136</td>\n",
       "      <td>22.620365</td>\n",
       "      <td>11.829486</td>\n",
       "      <td>7.159184</td>\n",
       "      <td>28000</td>\n",
       "    </tr>\n",
       "    <tr>\n",
       "      <th>3</th>\n",
       "      <td>1350</td>\n",
       "      <td>Independent Floor</td>\n",
       "      <td>2</td>\n",
       "      <td>28.644363</td>\n",
       "      <td>77.293228</td>\n",
       "      <td>Krishna Nagar</td>\n",
       "      <td>East Delhi</td>\n",
       "      <td>Other</td>\n",
       "      <td>0.371709</td>\n",
       "      <td>22.681201</td>\n",
       "      <td>11.982708</td>\n",
       "      <td>7.097348</td>\n",
       "      <td>28000</td>\n",
       "    </tr>\n",
       "    <tr>\n",
       "      <th>4</th>\n",
       "      <td>450</td>\n",
       "      <td>Apartment</td>\n",
       "      <td>2</td>\n",
       "      <td>28.594736</td>\n",
       "      <td>77.311150</td>\n",
       "      <td>New Ashok Nagar</td>\n",
       "      <td>East Delhi</td>\n",
       "      <td>Other</td>\n",
       "      <td>1.087760</td>\n",
       "      <td>22.592810</td>\n",
       "      <td>10.571573</td>\n",
       "      <td>10.263271</td>\n",
       "      <td>12500</td>\n",
       "    </tr>\n",
       "  </tbody>\n",
       "</table>\n",
       "</div>"
      ],
      "text/plain": [
       "   size_sq_ft       propertyType  bedrooms   latitude  longitude  \\\n",
       "0         400  Independent Floor         1  28.641010  77.284386   \n",
       "1        1050          Apartment         2  28.594969  77.298668   \n",
       "2        2250  Independent Floor         2  28.641806  77.293922   \n",
       "3        1350  Independent Floor         2  28.644363  77.293228   \n",
       "4         450          Apartment         2  28.594736  77.311150   \n",
       "\n",
       "          localityName  suburbName companyName  closest_metro_station_km  \\\n",
       "0       Swasthya Vihar  East Delhi       Other                  0.577495   \n",
       "1  mayur vihar phase 1  East Delhi       Other                  0.417142   \n",
       "2       Swasthya Vihar  East Delhi       Other                  0.125136   \n",
       "3        Krishna Nagar  East Delhi       Other                  0.371709   \n",
       "4      New Ashok Nagar  East Delhi       Other                  1.087760   \n",
       "\n",
       "   AP_dist_km  Aiims_dist_km  NDRLW_dist_km  price  \n",
       "0   21.741188      11.119239       6.227231   9000  \n",
       "1   21.401856       9.419061       9.217502  20000  \n",
       "2   22.620365      11.829486       7.159184  28000  \n",
       "3   22.681201      11.982708       7.097348  28000  \n",
       "4   22.592810      10.571573      10.263271  12500  "
      ]
     },
     "execution_count": 3,
     "metadata": {},
     "output_type": "execute_result"
    }
   ],
   "source": [
    "df.head()"
   ]
  },
  {
   "cell_type": "code",
   "execution_count": 4,
   "id": "d026b6f3",
   "metadata": {},
   "outputs": [],
   "source": [
    "X = df.drop(['price','localityName'], axis=1)\n",
    "y = df['price']"
   ]
  },
  {
   "cell_type": "code",
   "execution_count": 5,
   "id": "168e7d36",
   "metadata": {},
   "outputs": [],
   "source": [
    "X['propertyType'] = X['propertyType'].map({'Independent Floor':1,\n",
    "                                           'Apartment':2,\n",
    "                                           'Independent House':3,\n",
    "                                           'Villa':4})"
   ]
  },
  {
   "cell_type": "code",
   "execution_count": 6,
   "id": "2b6ffb68",
   "metadata": {},
   "outputs": [],
   "source": [
    "ohc = OneHotEncoder()\n",
    "ct = make_column_transformer((ohc,\n",
    "       make_column_selector(dtype_include=object)),\n",
    "       (\"passthrough\",\n",
    "        make_column_selector(dtype_include=['int64','float64'])))\n",
    "X_transf = ct.fit_transform(X).toarray()\n",
    "X_transf = pd.DataFrame(X_transf, columns=ct.get_feature_names_out())\n",
    "X_train, X_test, y_train, y_test = train_test_split(X_transf, y,test_size = 0.15, \n",
    "                                                    random_state=2023,\n",
    "                                                    stratify=X['propertyType'])"
   ]
  },
  {
   "cell_type": "code",
   "execution_count": 7,
   "id": "ae41fd9f",
   "metadata": {},
   "outputs": [
    {
     "name": "stdout",
     "output_type": "stream",
     "text": [
      "['onehotencoder__suburbName_Central Delhi'\n",
      " 'onehotencoder__suburbName_East Delhi'\n",
      " 'onehotencoder__suburbName_North Delhi'\n",
      " 'onehotencoder__suburbName_North West Delhi'\n",
      " 'onehotencoder__suburbName_Other' 'onehotencoder__suburbName_South Delhi'\n",
      " 'onehotencoder__suburbName_South West Delhi'\n",
      " 'onehotencoder__suburbName_West Delhi'\n",
      " 'onehotencoder__companyName_A R Realtors'\n",
      " 'onehotencoder__companyName_AB Estate'\n",
      " 'onehotencoder__companyName_AMIT CHHABRA'\n",
      " 'onehotencoder__companyName_AMPM Realtors'\n",
      " 'onehotencoder__companyName_AVS Realtors'\n",
      " 'onehotencoder__companyName_Abhishek yadav'\n",
      " 'onehotencoder__companyName_Ahuja properties'\n",
      " 'onehotencoder__companyName_Angel Property Services'\n",
      " 'onehotencoder__companyName_Arjun Raj'\n",
      " 'onehotencoder__companyName_Ashish Bansal'\n",
      " 'onehotencoder__companyName_Ashish Talwar'\n",
      " 'onehotencoder__companyName_Atul Kumar'\n",
      " 'onehotencoder__companyName_B Kumar and Brothers'\n",
      " 'onehotencoder__companyName_Baghla Estates'\n",
      " 'onehotencoder__companyName_Bhagirathi Estate'\n",
      " 'onehotencoder__companyName_Bhawani Estates'\n",
      " 'onehotencoder__companyName_Brickhouse Realty Solutions'\n",
      " 'onehotencoder__companyName_Chetan Narang Properties'\n",
      " 'onehotencoder__companyName_Damajeet Singh'\n",
      " 'onehotencoder__companyName_Delhi dreams properties consultant'\n",
      " 'onehotencoder__companyName_Destination Realty Solutions Private Limited'\n",
      " 'onehotencoder__companyName_Dinesh associates'\n",
      " 'onehotencoder__companyName_Disha Properties'\n",
      " 'onehotencoder__companyName_Faith Realty'\n",
      " 'onehotencoder__companyName_Find A House Real Estate Consultants'\n",
      " 'onehotencoder__companyName_Find Homes'\n",
      " 'onehotencoder__companyName_Gaurav Raj kumar'\n",
      " 'onehotencoder__companyName_Gaurav Singh'\n",
      " 'onehotencoder__companyName_HR Associates'\n",
      " 'onehotencoder__companyName_Handa Properties Paschim Vihar'\n",
      " 'onehotencoder__companyName_Hari Om Group'\n",
      " 'onehotencoder__companyName_India Homes'\n",
      " 'onehotencoder__companyName_India Z Homes'\n",
      " 'onehotencoder__companyName_Investors Boutique'\n",
      " 'onehotencoder__companyName_Jain Builder properties'\n",
      " 'onehotencoder__companyName_Jain Builders Properties'\n",
      " 'onehotencoder__companyName_Jain builders and properties'\n",
      " 'onehotencoder__companyName_Jatin'\n",
      " 'onehotencoder__companyName_Jindal Real Estate'\n",
      " 'onehotencoder__companyName_K C MIDDHA'\n",
      " 'onehotencoder__companyName_Kunal Associates'\n",
      " 'onehotencoder__companyName_Laxmipati Associates PvtLtd'\n",
      " 'onehotencoder__companyName_Mak Realtors Private Limited'\n",
      " 'onehotencoder__companyName_Moneytree real estate consultants'\n",
      " 'onehotencoder__companyName_Mukesh'\n",
      " 'onehotencoder__companyName_NCR Investors'\n",
      " 'onehotencoder__companyName_Navigators Estate'\n",
      " 'onehotencoder__companyName_Nayan Property'\n",
      " 'onehotencoder__companyName_Neon Properties'\n",
      " 'onehotencoder__companyName_Nikhil'\n",
      " 'onehotencoder__companyName_ONS Realtors'\n",
      " 'onehotencoder__companyName_Other'\n",
      " 'onehotencoder__companyName_Panther Properties'\n",
      " 'onehotencoder__companyName_Panworld Property Consultants'\n",
      " 'onehotencoder__companyName_Parmod Jain'\n",
      " 'onehotencoder__companyName_Pathfinder Homes'\n",
      " 'onehotencoder__companyName_Pooja Sood'\n",
      " 'onehotencoder__companyName_Pranav Gupta'\n",
      " 'onehotencoder__companyName_Prime Property'\n",
      " 'onehotencoder__companyName_Property Gallery'\n",
      " 'onehotencoder__companyName_Property Hub'\n",
      " 'onehotencoder__companyName_Property Linkers'\n",
      " 'onehotencoder__companyName_R K Properties Consultants'\n",
      " 'onehotencoder__companyName_R V Properties'\n",
      " 'onehotencoder__companyName_RATHOR PROPERTIES'\n",
      " 'onehotencoder__companyName_RSS DELHI PROPERTY'\n",
      " 'onehotencoder__companyName_Rakesh Kumar Verma'\n",
      " 'onehotencoder__companyName_Ravinder singh'\n",
      " 'onehotencoder__companyName_Realty Centre'\n",
      " 'onehotencoder__companyName_Ritu Estates'\n",
      " 'onehotencoder__companyName_Rohit'\n",
      " 'onehotencoder__companyName_S B Associates'\n",
      " 'onehotencoder__companyName_S K JAIN'\n",
      " 'onehotencoder__companyName_SAHIL CHAWLA'\n",
      " 'onehotencoder__companyName_SUMIT SIKKA'\n",
      " 'onehotencoder__companyName_Sach Consultant'\n",
      " 'onehotencoder__companyName_Sai Real Estate Services Regd'\n",
      " 'onehotencoder__companyName_Sanjay kumar company'\n",
      " 'onehotencoder__companyName_Seema Chaudhary'\n",
      " 'onehotencoder__companyName_Shakuntala Buildcon'\n",
      " 'onehotencoder__companyName_Shubham Home Solutions'\n",
      " 'onehotencoder__companyName_Shyam properties'\n",
      " 'onehotencoder__companyName_Smart Homes'\n",
      " 'onehotencoder__companyName_Sudhir Kumar'\n",
      " 'onehotencoder__companyName_Swastik Properties'\n",
      " 'onehotencoder__companyName_Tarun'\n",
      " 'onehotencoder__companyName_Vicky pareek'\n",
      " 'onehotencoder__companyName_Vikrant Datta'\n",
      " 'onehotencoder__companyName_Viva Estates'\n",
      " 'onehotencoder__companyName_Wadhera Estate'\n",
      " 'onehotencoder__companyName_Yukti' 'onehotencoder__companyName_bhagwan'\n",
      " 'onehotencoder__companyName_caretakers'\n",
      " 'onehotencoder__companyName_charu'\n",
      " 'onehotencoder__companyName_goswami realtors'\n",
      " 'onehotencoder__companyName_hans india real estate'\n",
      " 'onehotencoder__companyName_kartik dev'\n",
      " 'onehotencoder__companyName_kunal'\n",
      " 'onehotencoder__companyName_pransu Srivastava'\n",
      " 'onehotencoder__companyName_sandy' 'onehotencoder__companyName_sanjeev'\n",
      " 'onehotencoder__companyName_vijay mani tripathi'\n",
      " 'passthrough__size_sq_ft' 'passthrough__propertyType'\n",
      " 'passthrough__bedrooms' 'passthrough__latitude' 'passthrough__longitude'\n",
      " 'passthrough__closest_metro_station_km' 'passthrough__AP_dist_km'\n",
      " 'passthrough__Aiims_dist_km' 'passthrough__NDRLW_dist_km']\n"
     ]
    }
   ],
   "source": [
    "print(ct.get_feature_names_out())"
   ]
  },
  {
   "cell_type": "code",
   "execution_count": 8,
   "id": "06d8e901",
   "metadata": {},
   "outputs": [],
   "source": [
    "X_train['passthrough__propertyType'] = X_train['passthrough__propertyType'].astype(object)\n",
    "X_test['passthrough__propertyType'] = X_test['passthrough__propertyType'].astype(object)\n",
    "\n",
    "X_train = pd.get_dummies(X_train)\n",
    "X_test = pd.get_dummies(X_test)"
   ]
  },
  {
   "cell_type": "code",
   "execution_count": 9,
   "id": "f90a07cf",
   "metadata": {},
   "outputs": [],
   "source": [
    "from sklearn.linear_model import Ridge, Lasso, ElasticNet"
   ]
  },
  {
   "cell_type": "markdown",
   "id": "3c1adae8",
   "metadata": {},
   "source": [
    "## Ridge"
   ]
  },
  {
   "cell_type": "code",
   "execution_count": 10,
   "id": "1f957417",
   "metadata": {},
   "outputs": [
    {
     "data": {
      "text/plain": [
       "GridSearchCV(cv=StratifiedKFold(n_splits=5, random_state=2023, shuffle=True),\n",
       "             estimator=Ridge(), n_jobs=-1,\n",
       "             param_grid={'alpha': array([ 1,  2,  3,  4,  5,  6,  7,  8,  9, 10, 11, 12, 13, 14, 15, 16, 17,\n",
       "       18, 19])},\n",
       "             scoring='r2')"
      ]
     },
     "execution_count": 10,
     "metadata": {},
     "output_type": "execute_result"
    }
   ],
   "source": [
    "ridge = Ridge()\n",
    "kfold = StratifiedKFold(n_splits=5, shuffle=True, random_state=2023)\n",
    "params = {'alpha':np.arange(1,20)}\n",
    "gcv = GridSearchCV(ridge, param_grid=params, cv=kfold,scoring='r2',n_jobs=-1)\n",
    "gcv.fit(X_train,y_train)"
   ]
  },
  {
   "cell_type": "code",
   "execution_count": 11,
   "id": "7ad488c2",
   "metadata": {},
   "outputs": [
    {
     "name": "stdout",
     "output_type": "stream",
     "text": [
      "{'alpha': 17}\n",
      "0.39185870465761463\n"
     ]
    }
   ],
   "source": [
    "print(gcv.best_params_)\n",
    "print(gcv.best_score_)"
   ]
  },
  {
   "cell_type": "code",
   "execution_count": 12,
   "id": "c01dd223",
   "metadata": {},
   "outputs": [
    {
     "name": "stdout",
     "output_type": "stream",
     "text": [
      "[ 1.00819266e+04 -7.74226836e+03 -4.10963806e+03  3.47183838e+03\n",
      " -1.63468116e+03 -1.18635410e+03 -4.75808865e+03  5.87726533e+03\n",
      " -1.73604441e+04 -6.77713395e+03 -2.35408933e+03  1.55448326e+04\n",
      " -1.18419429e+03 -3.95137531e+03 -2.31015260e+04 -2.05127147e+04\n",
      " -2.82158721e+03  5.33956804e+03 -6.44129712e+03 -3.73133135e+04\n",
      "  4.45682593e+05 -1.10881322e+04  3.34943875e+03  9.93004646e+02\n",
      "  4.96394525e+04 -7.00509331e+03  2.76366124e+03 -6.54083886e+03\n",
      " -5.45269181e+03 -1.94785986e+04 -3.90845846e+03  5.09080186e+00\n",
      " -3.02381251e+03  5.55917439e+04 -2.04970481e+03 -3.64448123e+03\n",
      " -2.72227813e+04  5.33753100e+03 -3.39650193e+04 -2.30788551e+04\n",
      "  0.00000000e+00  2.28283495e+04 -1.15186349e+04 -6.81772916e+04\n",
      " -2.44315320e+04 -2.08136067e+03 -7.38244557e+03 -4.29972786e+03\n",
      "  0.00000000e+00 -5.89901205e+03  7.28392302e+03 -1.16118419e+04\n",
      " -9.26588554e+04 -2.45155422e+04 -4.18679008e+04 -1.65153426e+02\n",
      " -1.63523099e+03 -4.99901659e+03  1.54384220e+04 -3.25325659e+04\n",
      "  1.21833356e+04  4.64335248e+02 -3.94380814e+03 -3.68521305e+03\n",
      "  1.11004796e+03  7.34916463e+02  0.00000000e+00  3.80728057e+04\n",
      " -3.32639108e+04 -2.17014824e+04  6.84374388e+04  5.39694489e+03\n",
      "  1.76130308e+03  5.61460235e+02 -4.83315789e+03 -4.94362430e+03\n",
      " -1.37669324e+04 -3.02000177e+03 -1.45386314e+04 -8.93795603e+03\n",
      "  3.83667685e+03 -7.53833910e+03  1.52378650e+04  3.15379732e+04\n",
      "  3.03858565e+03 -5.29777780e+03  0.00000000e+00 -5.53219608e+01\n",
      " -2.01437659e+04 -8.21906617e+03 -1.51747982e+04 -4.50277487e+02\n",
      " -1.20090361e+04 -7.75143338e+02 -2.38982724e+03 -3.66766216e+03\n",
      "  7.13690821e+02 -1.24084513e+04  2.63088285e+03  2.08747495e+03\n",
      " -8.19362062e+03 -7.69961140e+02 -2.78016133e+03 -2.02892342e+03\n",
      " -1.86989704e+03 -3.60474656e+03  1.14977688e+03  0.00000000e+00\n",
      " -1.55338736e+03  4.86401186e+03  5.25562206e+01 -1.78056179e+03\n",
      " -2.92389526e+04  8.87627280e+03  1.17166800e+02  8.87419850e+02\n",
      " -7.58245347e+01 -1.14162841e+03 -3.24106536e+04 -3.24816660e+04\n",
      " -8.02165425e+03  7.29139738e+04]\n"
     ]
    }
   ],
   "source": [
    "#Coefficients\n",
    "best_model = gcv.best_estimator_\n",
    "print(best_model.coef_)"
   ]
  },
  {
   "cell_type": "code",
   "execution_count": 13,
   "id": "1756210b",
   "metadata": {},
   "outputs": [
    {
     "name": "stdout",
     "output_type": "stream",
     "text": [
      "0.5097321902871619\n"
     ]
    }
   ],
   "source": [
    "best_model = gcv.best_estimator_\n",
    "y_pred = best_model.predict(X_test)\n",
    "print(r2_score(y_test, y_pred))"
   ]
  },
  {
   "cell_type": "code",
   "execution_count": null,
   "id": "4e6dca2b",
   "metadata": {},
   "outputs": [],
   "source": []
  },
  {
   "cell_type": "markdown",
   "id": "367c438e",
   "metadata": {},
   "source": [
    "## Lasso"
   ]
  },
  {
   "cell_type": "code",
   "execution_count": 14,
   "id": "10c81521",
   "metadata": {},
   "outputs": [
    {
     "data": {
      "text/plain": [
       "GridSearchCV(cv=StratifiedKFold(n_splits=5, random_state=2023, shuffle=True),\n",
       "             estimator=Lasso(), n_jobs=-1,\n",
       "             param_grid={'alpha': array([ 1,  2,  3,  4,  5,  6,  7,  8,  9, 10, 11, 12, 13, 14, 15, 16, 17,\n",
       "       18, 19, 20, 21, 22, 23, 24, 25, 26, 27, 28, 29, 30, 31, 32, 33, 34,\n",
       "       35, 36, 37, 38, 39, 40, 41, 42, 43, 44, 45, 46, 47, 48, 49])},\n",
       "             scoring='r2')"
      ]
     },
     "execution_count": 14,
     "metadata": {},
     "output_type": "execute_result"
    }
   ],
   "source": [
    "lasso = Lasso()\n",
    "kfold = StratifiedKFold(n_splits=5, shuffle=True, random_state=2023)\n",
    "params = {'alpha':np.arange(1,50)}\n",
    "gcv = GridSearchCV(lasso, param_grid=params, cv=kfold,scoring='r2',n_jobs=-1)\n",
    "gcv.fit(X_train,y_train)"
   ]
  },
  {
   "cell_type": "code",
   "execution_count": 15,
   "id": "2b0b02a3",
   "metadata": {},
   "outputs": [
    {
     "name": "stdout",
     "output_type": "stream",
     "text": [
      "{'alpha': 49}\n",
      "0.34038544471761767\n"
     ]
    }
   ],
   "source": [
    "print(gcv.best_params_)\n",
    "print(gcv.best_score_)"
   ]
  },
  {
   "cell_type": "code",
   "execution_count": 16,
   "id": "8840aa70",
   "metadata": {},
   "outputs": [
    {
     "name": "stdout",
     "output_type": "stream",
     "text": [
      "0.48383863078914646\n"
     ]
    }
   ],
   "source": [
    "best_model = gcv.best_estimator_\n",
    "y_pred = best_model.predict(X_test)\n",
    "print(r2_score(y_test, y_pred))"
   ]
  },
  {
   "cell_type": "code",
   "execution_count": null,
   "id": "0a9d99e3",
   "metadata": {},
   "outputs": [],
   "source": []
  },
  {
   "cell_type": "markdown",
   "id": "dbfa3ee4",
   "metadata": {},
   "source": [
    "## Elasticnet"
   ]
  },
  {
   "cell_type": "code",
   "execution_count": 17,
   "id": "c2333f8f",
   "metadata": {},
   "outputs": [
    {
     "data": {
      "text/plain": [
       "GridSearchCV(cv=StratifiedKFold(n_splits=5, random_state=2023, shuffle=True),\n",
       "             estimator=ElasticNet(), n_jobs=-1,\n",
       "             param_grid={'alpha': [0.01, 0.1, 0.5, 1, 2, 3, 6, 10],\n",
       "                         'l1_ratio': [0, 0.25, 0.5, 0.75, 1]},\n",
       "             scoring='r2')"
      ]
     },
     "execution_count": 17,
     "metadata": {},
     "output_type": "execute_result"
    }
   ],
   "source": [
    "elastic = ElasticNet()\n",
    "kfold = StratifiedKFold(n_splits=5, shuffle=True, random_state=2023)\n",
    "params = {'alpha':[0.01,0.1,0.5,1,2,3,6,10],'l1_ratio':[0,0.25,0.5,0.75,1]}\n",
    "gcv = GridSearchCV(elastic, param_grid=params, cv=kfold,scoring='r2',n_jobs=-1)\n",
    "gcv.fit(X_train,y_train)"
   ]
  },
  {
   "cell_type": "code",
   "execution_count": 18,
   "id": "d131382d",
   "metadata": {},
   "outputs": [
    {
     "name": "stdout",
     "output_type": "stream",
     "text": [
      "{'alpha': 0.01, 'l1_ratio': 0.75}\n",
      "0.38561988806984343\n"
     ]
    }
   ],
   "source": [
    "print(gcv.best_params_)\n",
    "print(gcv.best_score_)"
   ]
  },
  {
   "cell_type": "code",
   "execution_count": 19,
   "id": "3fc54387",
   "metadata": {},
   "outputs": [
    {
     "name": "stdout",
     "output_type": "stream",
     "text": [
      "0.4903385056723052\n"
     ]
    }
   ],
   "source": [
    "best_model = gcv.best_estimator_\n",
    "y_pred = best_model.predict(X_test)\n",
    "print(r2_score(y_test, y_pred))"
   ]
  },
  {
   "cell_type": "code",
   "execution_count": null,
   "id": "6f1e17c3",
   "metadata": {},
   "outputs": [],
   "source": []
  },
  {
   "cell_type": "markdown",
   "id": "892e5627",
   "metadata": {},
   "source": [
    "## Ridge , Lasso, Elasticnet without companyName"
   ]
  },
  {
   "cell_type": "code",
   "execution_count": 20,
   "id": "87dbeba8",
   "metadata": {},
   "outputs": [],
   "source": [
    "X = df.drop(['price','localityName','companyName'], axis=1)\n",
    "y = df['price']"
   ]
  },
  {
   "cell_type": "code",
   "execution_count": 21,
   "id": "2be9f81e",
   "metadata": {},
   "outputs": [],
   "source": [
    "X['propertyType'] = X['propertyType'].map({'Independent Floor':1,\n",
    "                                           'Apartment':2,\n",
    "                                           'Independent House':3,\n",
    "                                           'Villa':4})"
   ]
  },
  {
   "cell_type": "code",
   "execution_count": 22,
   "id": "80ee14bd",
   "metadata": {},
   "outputs": [],
   "source": [
    "ohc = OneHotEncoder()\n",
    "ct = make_column_transformer((ohc,\n",
    "       make_column_selector(dtype_include=object)),\n",
    "       (\"passthrough\",\n",
    "        make_column_selector(dtype_include=['int64','float64'])))\n",
    "X_transf = ct.fit_transform(X)\n",
    "X_transf = pd.DataFrame(X_transf, columns=ct.get_feature_names_out())\n",
    "X_train, X_test, y_train, y_test = train_test_split(X_transf, y,test_size = 0.15, \n",
    "                                                    random_state=2023,\n",
    "                                                    stratify=X['propertyType'])"
   ]
  },
  {
   "cell_type": "code",
   "execution_count": 23,
   "id": "7f848a92",
   "metadata": {},
   "outputs": [
    {
     "name": "stdout",
     "output_type": "stream",
     "text": [
      "['onehotencoder__suburbName_Central Delhi'\n",
      " 'onehotencoder__suburbName_East Delhi'\n",
      " 'onehotencoder__suburbName_North Delhi'\n",
      " 'onehotencoder__suburbName_North West Delhi'\n",
      " 'onehotencoder__suburbName_Other' 'onehotencoder__suburbName_South Delhi'\n",
      " 'onehotencoder__suburbName_South West Delhi'\n",
      " 'onehotencoder__suburbName_West Delhi' 'passthrough__size_sq_ft'\n",
      " 'passthrough__propertyType' 'passthrough__bedrooms'\n",
      " 'passthrough__latitude' 'passthrough__longitude'\n",
      " 'passthrough__closest_metro_station_km' 'passthrough__AP_dist_km'\n",
      " 'passthrough__Aiims_dist_km' 'passthrough__NDRLW_dist_km']\n"
     ]
    }
   ],
   "source": [
    "print(ct.get_feature_names_out())"
   ]
  },
  {
   "cell_type": "code",
   "execution_count": 24,
   "id": "3b3f31d4",
   "metadata": {},
   "outputs": [],
   "source": [
    "X_train['passthrough__propertyType'] = X_train['passthrough__propertyType'].astype(object)\n",
    "X_test['passthrough__propertyType'] = X_test['passthrough__propertyType'].astype(object)\n",
    "\n",
    "X_train = pd.get_dummies(X_train)\n",
    "X_test = pd.get_dummies(X_test)"
   ]
  },
  {
   "cell_type": "code",
   "execution_count": 25,
   "id": "fe8e4108",
   "metadata": {},
   "outputs": [
    {
     "name": "stdout",
     "output_type": "stream",
     "text": [
      "{'alpha': 19}\n",
      "0.2810062102417459\n"
     ]
    }
   ],
   "source": [
    "## Ridge\n",
    "ridge = Ridge()\n",
    "kfold = StratifiedKFold(n_splits=5, shuffle=True, random_state=2023)\n",
    "params = {'alpha':np.arange(1,20)}\n",
    "gcv = GridSearchCV(ridge, param_grid=params, cv=kfold,scoring='r2',n_jobs=-1)\n",
    "gcv.fit(X_train,y_train)\n",
    "\n",
    "print(gcv.best_params_)\n",
    "print(gcv.best_score_)"
   ]
  },
  {
   "cell_type": "code",
   "execution_count": 26,
   "id": "9c7733ee",
   "metadata": {},
   "outputs": [
    {
     "name": "stdout",
     "output_type": "stream",
     "text": [
      "0.33209238079293146\n"
     ]
    }
   ],
   "source": [
    "best_model = gcv.best_estimator_\n",
    "y_pred = best_model.predict(X_test)\n",
    "print(r2_score(y_test, y_pred))"
   ]
  },
  {
   "cell_type": "code",
   "execution_count": null,
   "id": "c14eb92d",
   "metadata": {},
   "outputs": [],
   "source": []
  },
  {
   "cell_type": "code",
   "execution_count": 27,
   "id": "cae32d53",
   "metadata": {},
   "outputs": [
    {
     "name": "stdout",
     "output_type": "stream",
     "text": [
      "{'alpha': 49}\n",
      "0.2824108302417986\n"
     ]
    }
   ],
   "source": [
    "## Lasso\n",
    "lasso = Lasso()\n",
    "kfold = StratifiedKFold(n_splits=5, shuffle=True, random_state=2023)\n",
    "params = {'alpha':np.arange(1,50)}\n",
    "gcv = GridSearchCV(lasso, param_grid=params, cv=kfold,scoring='r2',n_jobs=-1)\n",
    "gcv.fit(X_train,y_train)\n",
    "\n",
    "print(gcv.best_params_)\n",
    "print(gcv.best_score_)"
   ]
  },
  {
   "cell_type": "code",
   "execution_count": 28,
   "id": "42c22d8b",
   "metadata": {},
   "outputs": [
    {
     "name": "stdout",
     "output_type": "stream",
     "text": [
      "0.3296187013220817\n"
     ]
    }
   ],
   "source": [
    "best_model = gcv.best_estimator_\n",
    "y_pred = best_model.predict(X_test)\n",
    "print(r2_score(y_test, y_pred))"
   ]
  },
  {
   "cell_type": "code",
   "execution_count": null,
   "id": "32a01194",
   "metadata": {},
   "outputs": [],
   "source": []
  },
  {
   "cell_type": "code",
   "execution_count": 29,
   "id": "769f4604",
   "metadata": {},
   "outputs": [
    {
     "name": "stdout",
     "output_type": "stream",
     "text": [
      "{'alpha': 10, 'l1_ratio': 0}\n",
      "0.30072525530845207\n"
     ]
    }
   ],
   "source": [
    "## Elasticnet \n",
    "\n",
    "elastic = ElasticNet()\n",
    "kfold = StratifiedKFold(n_splits=5, shuffle=True, random_state=2023)\n",
    "params = {'alpha':[0.01,0.1,0.5,1,2,3,6,10],'l1_ratio':[0,0.25,0.5,0.75,1]}\n",
    "gcv = GridSearchCV(elastic, param_grid=params, cv=kfold,scoring='r2',n_jobs=-1)\n",
    "gcv.fit(X_train,y_train)\n",
    "\n",
    "print(gcv.best_params_)\n",
    "print(gcv.best_score_)"
   ]
  },
  {
   "cell_type": "code",
   "execution_count": 30,
   "id": "536e967a",
   "metadata": {},
   "outputs": [
    {
     "name": "stdout",
     "output_type": "stream",
     "text": [
      "0.3197846003498559\n"
     ]
    }
   ],
   "source": [
    "best_model = gcv.best_estimator_\n",
    "y_pred = best_model.predict(X_test)\n",
    "print(r2_score(y_test, y_pred))"
   ]
  },
  {
   "cell_type": "code",
   "execution_count": null,
   "id": "f6a0f0ac",
   "metadata": {},
   "outputs": [],
   "source": []
  }
 ],
 "metadata": {
  "kernelspec": {
   "display_name": "Python 3 (ipykernel)",
   "language": "python",
   "name": "python3"
  },
  "language_info": {
   "codemirror_mode": {
    "name": "ipython",
    "version": 3
   },
   "file_extension": ".py",
   "mimetype": "text/x-python",
   "name": "python",
   "nbconvert_exporter": "python",
   "pygments_lexer": "ipython3",
   "version": "3.9.13"
  }
 },
 "nbformat": 4,
 "nbformat_minor": 5
}
