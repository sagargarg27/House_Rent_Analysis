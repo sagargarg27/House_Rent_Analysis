{
 "cells": [
  {
   "cell_type": "code",
   "execution_count": 1,
   "id": "ded9f625",
   "metadata": {},
   "outputs": [],
   "source": [
    "import pandas as pd\n",
    "import numpy as np\n",
    "from sklearn.model_selection import train_test_split \n",
    "from sklearn.preprocessing import OneHotEncoder\n",
    "from sklearn.compose import make_column_transformer,make_column_selector\n",
    "from sklearn.model_selection import StratifiedKFold, GridSearchCV\n",
    "from catboost import CatBoostRegressor\n",
    "from sklearn.metrics import r2_score\n",
    "\n",
    "import warnings\n",
    "warnings.filterwarnings(\"ignore\")"
   ]
  },
  {
   "cell_type": "code",
   "execution_count": 2,
   "id": "93286cd4",
   "metadata": {},
   "outputs": [],
   "source": [
    "df=pd.read_csv(\"../Dataset/ProcessedFile.csv\")"
   ]
  },
  {
   "cell_type": "code",
   "execution_count": 3,
   "id": "356286ec",
   "metadata": {},
   "outputs": [
    {
     "data": {
      "text/html": [
       "<div>\n",
       "<style scoped>\n",
       "    .dataframe tbody tr th:only-of-type {\n",
       "        vertical-align: middle;\n",
       "    }\n",
       "\n",
       "    .dataframe tbody tr th {\n",
       "        vertical-align: top;\n",
       "    }\n",
       "\n",
       "    .dataframe thead th {\n",
       "        text-align: right;\n",
       "    }\n",
       "</style>\n",
       "<table border=\"1\" class=\"dataframe\">\n",
       "  <thead>\n",
       "    <tr style=\"text-align: right;\">\n",
       "      <th></th>\n",
       "      <th>size_sq_ft</th>\n",
       "      <th>propertyType</th>\n",
       "      <th>bedrooms</th>\n",
       "      <th>latitude</th>\n",
       "      <th>longitude</th>\n",
       "      <th>localityName</th>\n",
       "      <th>suburbName</th>\n",
       "      <th>companyName</th>\n",
       "      <th>closest_metro_station_km</th>\n",
       "      <th>AP_dist_km</th>\n",
       "      <th>Aiims_dist_km</th>\n",
       "      <th>NDRLW_dist_km</th>\n",
       "      <th>price</th>\n",
       "    </tr>\n",
       "  </thead>\n",
       "  <tbody>\n",
       "    <tr>\n",
       "      <th>0</th>\n",
       "      <td>400</td>\n",
       "      <td>Independent Floor</td>\n",
       "      <td>1</td>\n",
       "      <td>28.641010</td>\n",
       "      <td>77.284386</td>\n",
       "      <td>Swasthya Vihar</td>\n",
       "      <td>East Delhi</td>\n",
       "      <td>Other</td>\n",
       "      <td>0.577495</td>\n",
       "      <td>21.741188</td>\n",
       "      <td>11.119239</td>\n",
       "      <td>6.227231</td>\n",
       "      <td>9000</td>\n",
       "    </tr>\n",
       "    <tr>\n",
       "      <th>1</th>\n",
       "      <td>1050</td>\n",
       "      <td>Apartment</td>\n",
       "      <td>2</td>\n",
       "      <td>28.594969</td>\n",
       "      <td>77.298668</td>\n",
       "      <td>mayur vihar phase 1</td>\n",
       "      <td>East Delhi</td>\n",
       "      <td>Other</td>\n",
       "      <td>0.417142</td>\n",
       "      <td>21.401856</td>\n",
       "      <td>9.419061</td>\n",
       "      <td>9.217502</td>\n",
       "      <td>20000</td>\n",
       "    </tr>\n",
       "    <tr>\n",
       "      <th>2</th>\n",
       "      <td>2250</td>\n",
       "      <td>Independent Floor</td>\n",
       "      <td>2</td>\n",
       "      <td>28.641806</td>\n",
       "      <td>77.293922</td>\n",
       "      <td>Swasthya Vihar</td>\n",
       "      <td>East Delhi</td>\n",
       "      <td>Other</td>\n",
       "      <td>0.125136</td>\n",
       "      <td>22.620365</td>\n",
       "      <td>11.829486</td>\n",
       "      <td>7.159184</td>\n",
       "      <td>28000</td>\n",
       "    </tr>\n",
       "    <tr>\n",
       "      <th>3</th>\n",
       "      <td>1350</td>\n",
       "      <td>Independent Floor</td>\n",
       "      <td>2</td>\n",
       "      <td>28.644363</td>\n",
       "      <td>77.293228</td>\n",
       "      <td>Krishna Nagar</td>\n",
       "      <td>East Delhi</td>\n",
       "      <td>Other</td>\n",
       "      <td>0.371709</td>\n",
       "      <td>22.681201</td>\n",
       "      <td>11.982708</td>\n",
       "      <td>7.097348</td>\n",
       "      <td>28000</td>\n",
       "    </tr>\n",
       "    <tr>\n",
       "      <th>4</th>\n",
       "      <td>450</td>\n",
       "      <td>Apartment</td>\n",
       "      <td>2</td>\n",
       "      <td>28.594736</td>\n",
       "      <td>77.311150</td>\n",
       "      <td>New Ashok Nagar</td>\n",
       "      <td>East Delhi</td>\n",
       "      <td>Other</td>\n",
       "      <td>1.087760</td>\n",
       "      <td>22.592810</td>\n",
       "      <td>10.571573</td>\n",
       "      <td>10.263271</td>\n",
       "      <td>12500</td>\n",
       "    </tr>\n",
       "  </tbody>\n",
       "</table>\n",
       "</div>"
      ],
      "text/plain": [
       "   size_sq_ft       propertyType  bedrooms   latitude  longitude  \\\n",
       "0         400  Independent Floor         1  28.641010  77.284386   \n",
       "1        1050          Apartment         2  28.594969  77.298668   \n",
       "2        2250  Independent Floor         2  28.641806  77.293922   \n",
       "3        1350  Independent Floor         2  28.644363  77.293228   \n",
       "4         450          Apartment         2  28.594736  77.311150   \n",
       "\n",
       "          localityName  suburbName companyName  closest_metro_station_km  \\\n",
       "0       Swasthya Vihar  East Delhi       Other                  0.577495   \n",
       "1  mayur vihar phase 1  East Delhi       Other                  0.417142   \n",
       "2       Swasthya Vihar  East Delhi       Other                  0.125136   \n",
       "3        Krishna Nagar  East Delhi       Other                  0.371709   \n",
       "4      New Ashok Nagar  East Delhi       Other                  1.087760   \n",
       "\n",
       "   AP_dist_km  Aiims_dist_km  NDRLW_dist_km  price  \n",
       "0   21.741188      11.119239       6.227231   9000  \n",
       "1   21.401856       9.419061       9.217502  20000  \n",
       "2   22.620365      11.829486       7.159184  28000  \n",
       "3   22.681201      11.982708       7.097348  28000  \n",
       "4   22.592810      10.571573      10.263271  12500  "
      ]
     },
     "execution_count": 3,
     "metadata": {},
     "output_type": "execute_result"
    }
   ],
   "source": [
    "df.head()"
   ]
  },
  {
   "cell_type": "code",
   "execution_count": 36,
   "id": "dcf41b1d",
   "metadata": {},
   "outputs": [],
   "source": [
    "X = df.drop(['price','localityName'], axis=1)\n",
    "y = df['price']"
   ]
  },
  {
   "cell_type": "code",
   "execution_count": 37,
   "id": "d63a16ec",
   "metadata": {},
   "outputs": [],
   "source": [
    "X['propertyType'] = X['propertyType'].map({'Independent Floor':1,\n",
    "                                           'Apartment':2,\n",
    "                                           'Independent House':3,\n",
    "                                           'Villa':4})"
   ]
  },
  {
   "cell_type": "markdown",
   "id": "d4f26b96",
   "metadata": {},
   "source": [
    "## With One Hot Encoding"
   ]
  },
  {
   "cell_type": "code",
   "execution_count": 40,
   "id": "af422986",
   "metadata": {},
   "outputs": [],
   "source": [
    "ohc = OneHotEncoder()\n",
    "ct = make_column_transformer((ohc,\n",
    "       make_column_selector(dtype_include=object)),\n",
    "       (\"passthrough\",\n",
    "        make_column_selector(dtype_include=['int64','float64'])))\n",
    "X_transf = ct.fit_transform(X).toarray()\n",
    "X_transf = pd.DataFrame(X_transf, columns=ct.get_feature_names_out())\n",
    "X_train, X_test, y_train, y_test = train_test_split(X_transf, y,test_size = 0.15, \n",
    "                                                    random_state=2023,\n",
    "                                                    stratify=X['propertyType'])"
   ]
  },
  {
   "cell_type": "code",
   "execution_count": 41,
   "id": "396998fa",
   "metadata": {},
   "outputs": [
    {
     "name": "stdout",
     "output_type": "stream",
     "text": [
      "['onehotencoder__suburbName_Central Delhi'\n",
      " 'onehotencoder__suburbName_East Delhi'\n",
      " 'onehotencoder__suburbName_North Delhi'\n",
      " 'onehotencoder__suburbName_North West Delhi'\n",
      " 'onehotencoder__suburbName_Other' 'onehotencoder__suburbName_South Delhi'\n",
      " 'onehotencoder__suburbName_South West Delhi'\n",
      " 'onehotencoder__suburbName_West Delhi'\n",
      " 'onehotencoder__companyName_A R Realtors'\n",
      " 'onehotencoder__companyName_AB Estate'\n",
      " 'onehotencoder__companyName_AMIT CHHABRA'\n",
      " 'onehotencoder__companyName_AMPM Realtors'\n",
      " 'onehotencoder__companyName_AVS Realtors'\n",
      " 'onehotencoder__companyName_Abhishek yadav'\n",
      " 'onehotencoder__companyName_Ahuja properties'\n",
      " 'onehotencoder__companyName_Angel Property Services'\n",
      " 'onehotencoder__companyName_Arjun Raj'\n",
      " 'onehotencoder__companyName_Ashish Bansal'\n",
      " 'onehotencoder__companyName_Ashish Talwar'\n",
      " 'onehotencoder__companyName_Atul Kumar'\n",
      " 'onehotencoder__companyName_B Kumar and Brothers'\n",
      " 'onehotencoder__companyName_Baghla Estates'\n",
      " 'onehotencoder__companyName_Bhagirathi Estate'\n",
      " 'onehotencoder__companyName_Bhawani Estates'\n",
      " 'onehotencoder__companyName_Brickhouse Realty Solutions'\n",
      " 'onehotencoder__companyName_Chetan Narang Properties'\n",
      " 'onehotencoder__companyName_Damajeet Singh'\n",
      " 'onehotencoder__companyName_Delhi dreams properties consultant'\n",
      " 'onehotencoder__companyName_Destination Realty Solutions Private Limited'\n",
      " 'onehotencoder__companyName_Dinesh associates'\n",
      " 'onehotencoder__companyName_Disha Properties'\n",
      " 'onehotencoder__companyName_Faith Realty'\n",
      " 'onehotencoder__companyName_Find A House Real Estate Consultants'\n",
      " 'onehotencoder__companyName_Find Homes'\n",
      " 'onehotencoder__companyName_Gaurav Raj kumar'\n",
      " 'onehotencoder__companyName_Gaurav Singh'\n",
      " 'onehotencoder__companyName_HR Associates'\n",
      " 'onehotencoder__companyName_Handa Properties Paschim Vihar'\n",
      " 'onehotencoder__companyName_Hari Om Group'\n",
      " 'onehotencoder__companyName_India Homes'\n",
      " 'onehotencoder__companyName_India Z Homes'\n",
      " 'onehotencoder__companyName_Investors Boutique'\n",
      " 'onehotencoder__companyName_Jain Builder properties'\n",
      " 'onehotencoder__companyName_Jain Builders Properties'\n",
      " 'onehotencoder__companyName_Jain builders and properties'\n",
      " 'onehotencoder__companyName_Jatin'\n",
      " 'onehotencoder__companyName_Jindal Real Estate'\n",
      " 'onehotencoder__companyName_K C MIDDHA'\n",
      " 'onehotencoder__companyName_Kunal Associates'\n",
      " 'onehotencoder__companyName_Laxmipati Associates PvtLtd'\n",
      " 'onehotencoder__companyName_Mak Realtors Private Limited'\n",
      " 'onehotencoder__companyName_Moneytree real estate consultants'\n",
      " 'onehotencoder__companyName_Mukesh'\n",
      " 'onehotencoder__companyName_NCR Investors'\n",
      " 'onehotencoder__companyName_Navigators Estate'\n",
      " 'onehotencoder__companyName_Nayan Property'\n",
      " 'onehotencoder__companyName_Neon Properties'\n",
      " 'onehotencoder__companyName_Nikhil'\n",
      " 'onehotencoder__companyName_ONS Realtors'\n",
      " 'onehotencoder__companyName_Other'\n",
      " 'onehotencoder__companyName_Panther Properties'\n",
      " 'onehotencoder__companyName_Panworld Property Consultants'\n",
      " 'onehotencoder__companyName_Parmod Jain'\n",
      " 'onehotencoder__companyName_Pathfinder Homes'\n",
      " 'onehotencoder__companyName_Pooja Sood'\n",
      " 'onehotencoder__companyName_Pranav Gupta'\n",
      " 'onehotencoder__companyName_Prime Property'\n",
      " 'onehotencoder__companyName_Property Gallery'\n",
      " 'onehotencoder__companyName_Property Hub'\n",
      " 'onehotencoder__companyName_Property Linkers'\n",
      " 'onehotencoder__companyName_R K Properties Consultants'\n",
      " 'onehotencoder__companyName_R V Properties'\n",
      " 'onehotencoder__companyName_RATHOR PROPERTIES'\n",
      " 'onehotencoder__companyName_RSS DELHI PROPERTY'\n",
      " 'onehotencoder__companyName_Rakesh Kumar Verma'\n",
      " 'onehotencoder__companyName_Ravinder singh'\n",
      " 'onehotencoder__companyName_Realty Centre'\n",
      " 'onehotencoder__companyName_Ritu Estates'\n",
      " 'onehotencoder__companyName_Rohit'\n",
      " 'onehotencoder__companyName_S B Associates'\n",
      " 'onehotencoder__companyName_S K JAIN'\n",
      " 'onehotencoder__companyName_SAHIL CHAWLA'\n",
      " 'onehotencoder__companyName_SUMIT SIKKA'\n",
      " 'onehotencoder__companyName_Sach Consultant'\n",
      " 'onehotencoder__companyName_Sai Real Estate Services Regd'\n",
      " 'onehotencoder__companyName_Sanjay kumar company'\n",
      " 'onehotencoder__companyName_Seema Chaudhary'\n",
      " 'onehotencoder__companyName_Shakuntala Buildcon'\n",
      " 'onehotencoder__companyName_Shubham Home Solutions'\n",
      " 'onehotencoder__companyName_Shyam properties'\n",
      " 'onehotencoder__companyName_Smart Homes'\n",
      " 'onehotencoder__companyName_Sudhir Kumar'\n",
      " 'onehotencoder__companyName_Swastik Properties'\n",
      " 'onehotencoder__companyName_Tarun'\n",
      " 'onehotencoder__companyName_Vicky pareek'\n",
      " 'onehotencoder__companyName_Vikrant Datta'\n",
      " 'onehotencoder__companyName_Viva Estates'\n",
      " 'onehotencoder__companyName_Wadhera Estate'\n",
      " 'onehotencoder__companyName_Yukti' 'onehotencoder__companyName_bhagwan'\n",
      " 'onehotencoder__companyName_caretakers'\n",
      " 'onehotencoder__companyName_charu'\n",
      " 'onehotencoder__companyName_goswami realtors'\n",
      " 'onehotencoder__companyName_hans india real estate'\n",
      " 'onehotencoder__companyName_kartik dev'\n",
      " 'onehotencoder__companyName_kunal'\n",
      " 'onehotencoder__companyName_pransu Srivastava'\n",
      " 'onehotencoder__companyName_sandy' 'onehotencoder__companyName_sanjeev'\n",
      " 'onehotencoder__companyName_vijay mani tripathi'\n",
      " 'passthrough__size_sq_ft' 'passthrough__propertyType'\n",
      " 'passthrough__bedrooms' 'passthrough__latitude' 'passthrough__longitude'\n",
      " 'passthrough__closest_metro_station_km' 'passthrough__AP_dist_km'\n",
      " 'passthrough__Aiims_dist_km' 'passthrough__NDRLW_dist_km']\n"
     ]
    }
   ],
   "source": [
    "print(ct.get_feature_names_out())"
   ]
  },
  {
   "cell_type": "code",
   "execution_count": 42,
   "id": "861fe1a0",
   "metadata": {
    "scrolled": true
   },
   "outputs": [],
   "source": [
    "X_train['passthrough__propertyType'] = X_train['passthrough__propertyType'].astype(object)\n",
    "X_test['passthrough__propertyType'] = X_test['passthrough__propertyType'].astype(object)\n",
    "\n",
    "X_train = pd.get_dummies(X_train)\n",
    "X_test = pd.get_dummies(X_test)"
   ]
  },
  {
   "cell_type": "code",
   "execution_count": 30,
   "id": "6887ed1b",
   "metadata": {},
   "outputs": [],
   "source": [
    "# Hyperparameter tuning"
   ]
  },
  {
   "cell_type": "code",
   "execution_count": 49,
   "id": "4535ee64",
   "metadata": {
    "scrolled": true
   },
   "outputs": [
    {
     "name": "stdout",
     "output_type": "stream",
     "text": [
      "0:\tlearn: 79495.4457991\ttotal: 11.6ms\tremaining: 861ms\n",
      "1:\tlearn: 67151.6003888\ttotal: 32.6ms\tremaining: 1.19s\n",
      "2:\tlearn: 59044.9587088\ttotal: 41.3ms\tremaining: 991ms\n",
      "3:\tlearn: 49747.9220358\ttotal: 48.9ms\tremaining: 869ms\n",
      "4:\tlearn: 47989.5254929\ttotal: 52.1ms\tremaining: 729ms\n",
      "5:\tlearn: 44577.7543774\ttotal: 59.2ms\tremaining: 681ms\n",
      "6:\tlearn: 41875.1150870\ttotal: 66.9ms\tremaining: 650ms\n",
      "7:\tlearn: 39160.1445881\ttotal: 72.1ms\tremaining: 604ms\n",
      "8:\tlearn: 34913.1950736\ttotal: 79.4ms\tremaining: 582ms\n",
      "9:\tlearn: 33428.6877891\ttotal: 84.1ms\tremaining: 547ms\n",
      "10:\tlearn: 31928.3881090\ttotal: 90.8ms\tremaining: 528ms\n",
      "11:\tlearn: 30471.9986063\ttotal: 97.1ms\tremaining: 510ms\n",
      "12:\tlearn: 29485.0966942\ttotal: 103ms\tremaining: 492ms\n",
      "13:\tlearn: 26589.4356266\ttotal: 110ms\tremaining: 481ms\n",
      "14:\tlearn: 25987.6607967\ttotal: 117ms\tremaining: 467ms\n",
      "15:\tlearn: 25458.5831002\ttotal: 123ms\tremaining: 454ms\n",
      "16:\tlearn: 25159.8758036\ttotal: 131ms\tremaining: 447ms\n",
      "17:\tlearn: 23634.3326127\ttotal: 139ms\tremaining: 440ms\n",
      "18:\tlearn: 22571.7734942\ttotal: 147ms\tremaining: 433ms\n",
      "19:\tlearn: 21915.9105003\ttotal: 155ms\tremaining: 427ms\n",
      "20:\tlearn: 21763.9906733\ttotal: 163ms\tremaining: 419ms\n",
      "21:\tlearn: 21150.8900687\ttotal: 170ms\tremaining: 410ms\n",
      "22:\tlearn: 20880.2499873\ttotal: 177ms\tremaining: 401ms\n",
      "23:\tlearn: 20262.0364279\ttotal: 185ms\tremaining: 393ms\n",
      "24:\tlearn: 19935.6692144\ttotal: 191ms\tremaining: 383ms\n",
      "25:\tlearn: 19701.0319801\ttotal: 198ms\tremaining: 374ms\n",
      "26:\tlearn: 19539.6673515\ttotal: 204ms\tremaining: 364ms\n",
      "27:\tlearn: 19249.5555521\ttotal: 212ms\tremaining: 356ms\n",
      "28:\tlearn: 18789.5468567\ttotal: 219ms\tremaining: 348ms\n",
      "29:\tlearn: 18677.1599524\ttotal: 227ms\tremaining: 340ms\n",
      "30:\tlearn: 18365.7862205\ttotal: 242ms\tremaining: 344ms\n",
      "31:\tlearn: 18283.1082281\ttotal: 254ms\tremaining: 341ms\n",
      "32:\tlearn: 18052.3320522\ttotal: 262ms\tremaining: 334ms\n",
      "33:\tlearn: 18004.8676288\ttotal: 270ms\tremaining: 326ms\n",
      "34:\tlearn: 17817.2096341\ttotal: 284ms\tremaining: 325ms\n",
      "35:\tlearn: 17683.0205032\ttotal: 300ms\tremaining: 325ms\n",
      "36:\tlearn: 17362.1290686\ttotal: 312ms\tremaining: 321ms\n",
      "37:\tlearn: 17279.8378900\ttotal: 322ms\tremaining: 313ms\n",
      "38:\tlearn: 17216.3591638\ttotal: 330ms\tremaining: 305ms\n",
      "39:\tlearn: 16955.5306777\ttotal: 339ms\tremaining: 297ms\n",
      "40:\tlearn: 16748.9676580\ttotal: 348ms\tremaining: 289ms\n",
      "41:\tlearn: 16721.3872682\ttotal: 355ms\tremaining: 279ms\n",
      "42:\tlearn: 16397.7504792\ttotal: 362ms\tremaining: 270ms\n",
      "43:\tlearn: 16203.7526883\ttotal: 369ms\tremaining: 260ms\n",
      "44:\tlearn: 16155.5154373\ttotal: 376ms\tremaining: 251ms\n",
      "45:\tlearn: 16019.9375039\ttotal: 383ms\tremaining: 241ms\n",
      "46:\tlearn: 15836.6989702\ttotal: 390ms\tremaining: 232ms\n",
      "47:\tlearn: 15813.6176632\ttotal: 396ms\tremaining: 223ms\n",
      "48:\tlearn: 15641.1258684\ttotal: 404ms\tremaining: 214ms\n",
      "49:\tlearn: 15594.2623867\ttotal: 412ms\tremaining: 206ms\n",
      "50:\tlearn: 15463.6178953\ttotal: 419ms\tremaining: 197ms\n",
      "51:\tlearn: 15374.9316005\ttotal: 429ms\tremaining: 190ms\n",
      "52:\tlearn: 15357.8725422\ttotal: 438ms\tremaining: 182ms\n",
      "53:\tlearn: 15315.4228183\ttotal: 449ms\tremaining: 175ms\n",
      "54:\tlearn: 15297.6099425\ttotal: 470ms\tremaining: 171ms\n",
      "55:\tlearn: 15210.1274527\ttotal: 487ms\tremaining: 165ms\n",
      "56:\tlearn: 15117.9338547\ttotal: 497ms\tremaining: 157ms\n",
      "57:\tlearn: 14960.7832009\ttotal: 510ms\tremaining: 150ms\n",
      "58:\tlearn: 14905.8878082\ttotal: 518ms\tremaining: 141ms\n",
      "59:\tlearn: 14847.0794184\ttotal: 526ms\tremaining: 131ms\n",
      "60:\tlearn: 14835.5346728\ttotal: 533ms\tremaining: 122ms\n",
      "61:\tlearn: 14727.3224203\ttotal: 541ms\tremaining: 113ms\n",
      "62:\tlearn: 14694.7169616\ttotal: 549ms\tremaining: 104ms\n",
      "63:\tlearn: 14683.4706844\ttotal: 559ms\tremaining: 96.1ms\n",
      "64:\tlearn: 14605.3119317\ttotal: 567ms\tremaining: 87.3ms\n",
      "65:\tlearn: 14531.6487065\ttotal: 576ms\tremaining: 78.6ms\n",
      "66:\tlearn: 14453.2381879\ttotal: 585ms\tremaining: 69.8ms\n",
      "67:\tlearn: 14442.8779733\ttotal: 593ms\tremaining: 61.1ms\n",
      "68:\tlearn: 14434.8121952\ttotal: 614ms\tremaining: 53.4ms\n",
      "69:\tlearn: 14394.3044525\ttotal: 630ms\tremaining: 45ms\n",
      "70:\tlearn: 14292.7365767\ttotal: 638ms\tremaining: 36ms\n",
      "71:\tlearn: 14284.9271593\ttotal: 646ms\tremaining: 26.9ms\n",
      "72:\tlearn: 14217.7524437\ttotal: 655ms\tremaining: 17.9ms\n",
      "73:\tlearn: 14208.5856278\ttotal: 668ms\tremaining: 9.03ms\n",
      "74:\tlearn: 14190.9136687\ttotal: 680ms\tremaining: 0us\n"
     ]
    },
    {
     "data": {
      "text/plain": [
       "GridSearchCV(cv=StratifiedKFold(n_splits=5, random_state=2023, shuffle=True),\n",
       "             estimator=<catboost.core.CatBoostRegressor object at 0x0000025675FDEEE0>,\n",
       "             n_jobs=-1,\n",
       "             param_grid={'learning_rate': [0.1, 0.15, 0.3, 0.35, 0.4, 0.5, 0.6],\n",
       "                         'max_depth': [2, 3, 4, 5, 6, 7, 8, 9],\n",
       "                         'n_estimators': [25, 50, 75, 85]},\n",
       "             scoring='r2')"
      ]
     },
     "execution_count": 49,
     "metadata": {},
     "output_type": "execute_result"
    }
   ],
   "source": [
    "cat_gbm = CatBoostRegressor(random_state=2023,)\n",
    "\n",
    "params = {'learning_rate': [0.1, 0.15, 0.3, 0.35, 0.4, 0.5,0.6],\n",
    "          'n_estimators': [25, 50, 75,85],\n",
    "          'max_depth':[2, 3, 4, 5,6,7,8,9]}\n",
    "kfold = StratifiedKFold(n_splits=5, shuffle=True, random_state=2023,)\n",
    "gcv = GridSearchCV(cat_gbm, param_grid=params,\n",
    "                   cv=kfold, scoring='r2',n_jobs=-1)\n",
    "gcv.fit(X_train, y_train)"
   ]
  },
  {
   "cell_type": "code",
   "execution_count": 50,
   "id": "a9c38aa5",
   "metadata": {
    "scrolled": true
   },
   "outputs": [
    {
     "name": "stdout",
     "output_type": "stream",
     "text": [
      "{'learning_rate': 0.4, 'max_depth': 7, 'n_estimators': 75}\n",
      "0.723126960833764\n"
     ]
    }
   ],
   "source": [
    "print(gcv.best_params_)\n",
    "print(gcv.best_score_)"
   ]
  },
  {
   "cell_type": "code",
   "execution_count": 53,
   "id": "5e218fe7",
   "metadata": {},
   "outputs": [
    {
     "name": "stdout",
     "output_type": "stream",
     "text": [
      "0.8721512070469826\n"
     ]
    }
   ],
   "source": [
    "best_model = gcv.best_estimator_\n",
    "y_pred = best_model.predict(X_test)\n",
    "print(r2_score(y_test, y_pred))"
   ]
  },
  {
   "cell_type": "code",
   "execution_count": null,
   "id": "04d6f578",
   "metadata": {},
   "outputs": [],
   "source": []
  },
  {
   "cell_type": "markdown",
   "id": "06bad7b7",
   "metadata": {},
   "source": [
    "## Without One Hot Encoding"
   ]
  },
  {
   "cell_type": "code",
   "execution_count": 54,
   "id": "e479bd43",
   "metadata": {},
   "outputs": [],
   "source": [
    "from sklearn.metrics import r2_score"
   ]
  },
  {
   "cell_type": "code",
   "execution_count": 71,
   "id": "c8c961ff",
   "metadata": {},
   "outputs": [],
   "source": [
    "categorical=['propertyType','suburbName','companyName']\n",
    "X = df.drop(['localityName','price'],axis=1)\n",
    "#X = df.iloc[:,0:12]\n",
    "y = df['price']"
   ]
  },
  {
   "cell_type": "code",
   "execution_count": 73,
   "id": "8b735836",
   "metadata": {},
   "outputs": [],
   "source": [
    "X_train, X_test, y_train, y_test = train_test_split(X, y,test_size = 0.15, \n",
    "                                                    random_state=2023,\n",
    "                                                    stratify=X['propertyType']) \n"
   ]
  },
  {
   "cell_type": "code",
   "execution_count": 74,
   "id": "47ca5a2c",
   "metadata": {
    "scrolled": true
   },
   "outputs": [
    {
     "data": {
      "text/plain": [
       "GridSearchCV(cv=StratifiedKFold(n_splits=5, random_state=2023, shuffle=True),\n",
       "             estimator=<catboost.core.CatBoostRegressor object at 0x000002567D9CC4F0>,\n",
       "             n_jobs=-1,\n",
       "             param_grid={'learning_rate': [0.1, 0.15, 0.3, 0.35, 0.4, 0.5, 0.6],\n",
       "                         'max_depth': [2, 3, 4, 5, 6, 7, 8, 9],\n",
       "                         'n_estimators': [25, 50, 75, 85]},\n",
       "             scoring='r2')"
      ]
     },
     "execution_count": 74,
     "metadata": {},
     "output_type": "execute_result"
    }
   ],
   "source": [
    "cat_gbm = CatBoostRegressor(random_state=2023,)\n",
    "\n",
    "params = {'learning_rate': [0.1, 0.15, 0.3, 0.35, 0.4, 0.5,0.6],\n",
    "          'n_estimators': [25, 50, 75,85],\n",
    "          'max_depth':[2, 3, 4, 5,6,7,8,9]}\n",
    "kfold = StratifiedKFold(n_splits=5, shuffle=True, random_state=2023,)\n",
    "gcv = GridSearchCV(cat_gbm, param_grid=params,\n",
    "                   cv=kfold, scoring='r2',n_jobs=-1)\n",
    "gcv.fit(X_train, y_train,verbose=False,cat_features=categorical)"
   ]
  },
  {
   "cell_type": "code",
   "execution_count": 75,
   "id": "eb8bb6c3",
   "metadata": {},
   "outputs": [
    {
     "name": "stdout",
     "output_type": "stream",
     "text": [
      "{'learning_rate': 0.4, 'max_depth': 9, 'n_estimators': 75}\n",
      "0.8217416958942568\n"
     ]
    }
   ],
   "source": [
    "print(gcv.best_params_)\n",
    "print(gcv.best_score_)"
   ]
  },
  {
   "cell_type": "code",
   "execution_count": 76,
   "id": "10e23e2c",
   "metadata": {},
   "outputs": [
    {
     "name": "stdout",
     "output_type": "stream",
     "text": [
      "0.6947802463243997\n"
     ]
    }
   ],
   "source": [
    "best_model = gcv.best_estimator_\n",
    "y_pred = best_model.predict(X_test)\n",
    "print(r2_score(y_test, y_pred))"
   ]
  },
  {
   "cell_type": "code",
   "execution_count": null,
   "id": "ade92d4a",
   "metadata": {},
   "outputs": [],
   "source": []
  },
  {
   "cell_type": "markdown",
   "id": "c8cfaf0f",
   "metadata": {},
   "source": [
    "## CatBoost with onehotencoding, without companyName"
   ]
  },
  {
   "cell_type": "code",
   "execution_count": 4,
   "id": "1d7b6423",
   "metadata": {},
   "outputs": [],
   "source": [
    "X = df.drop(['price','localityName','companyName'], axis=1)\n",
    "y = df['price']"
   ]
  },
  {
   "cell_type": "code",
   "execution_count": 5,
   "id": "2fa3e1b8",
   "metadata": {},
   "outputs": [],
   "source": [
    "X['propertyType'] = X['propertyType'].map({'Independent Floor':1,\n",
    "                                           'Apartment':2,\n",
    "                                           'Independent House':3,\n",
    "                                           'Villa':4})"
   ]
  },
  {
   "cell_type": "code",
   "execution_count": 7,
   "id": "dda7569c",
   "metadata": {},
   "outputs": [],
   "source": [
    "ohc = OneHotEncoder()\n",
    "ct = make_column_transformer((ohc,\n",
    "       make_column_selector(dtype_include=object)),\n",
    "       (\"passthrough\",\n",
    "        make_column_selector(dtype_include=['int64','float64'])))\n",
    "X_transf = ct.fit_transform(X)\n",
    "X_transf = pd.DataFrame(X_transf, columns=ct.get_feature_names_out())\n",
    "X_train, X_test, y_train, y_test = train_test_split(X_transf, y,test_size = 0.15, \n",
    "                                                    random_state=2023,\n",
    "                                                    stratify=X['propertyType'])"
   ]
  },
  {
   "cell_type": "code",
   "execution_count": 8,
   "id": "91140d9a",
   "metadata": {},
   "outputs": [
    {
     "name": "stdout",
     "output_type": "stream",
     "text": [
      "['onehotencoder__suburbName_Central Delhi'\n",
      " 'onehotencoder__suburbName_East Delhi'\n",
      " 'onehotencoder__suburbName_North Delhi'\n",
      " 'onehotencoder__suburbName_North West Delhi'\n",
      " 'onehotencoder__suburbName_Other' 'onehotencoder__suburbName_South Delhi'\n",
      " 'onehotencoder__suburbName_South West Delhi'\n",
      " 'onehotencoder__suburbName_West Delhi' 'passthrough__size_sq_ft'\n",
      " 'passthrough__propertyType' 'passthrough__bedrooms'\n",
      " 'passthrough__latitude' 'passthrough__longitude'\n",
      " 'passthrough__closest_metro_station_km' 'passthrough__AP_dist_km'\n",
      " 'passthrough__Aiims_dist_km' 'passthrough__NDRLW_dist_km']\n"
     ]
    }
   ],
   "source": [
    "print(ct.get_feature_names_out())"
   ]
  },
  {
   "cell_type": "code",
   "execution_count": 9,
   "id": "d4f173b6",
   "metadata": {},
   "outputs": [],
   "source": [
    "X_train['passthrough__propertyType'] = X_train['passthrough__propertyType'].astype(object)\n",
    "X_test['passthrough__propertyType'] = X_test['passthrough__propertyType'].astype(object)\n",
    "\n",
    "X_train = pd.get_dummies(X_train)\n",
    "X_test = pd.get_dummies(X_test)"
   ]
  },
  {
   "cell_type": "code",
   "execution_count": 10,
   "id": "abae040c",
   "metadata": {},
   "outputs": [
    {
     "name": "stdout",
     "output_type": "stream",
     "text": [
      "0:\tlearn: 77078.9848761\ttotal: 172ms\tremaining: 8.44s\n",
      "1:\tlearn: 66899.3356349\ttotal: 197ms\tremaining: 4.73s\n",
      "2:\tlearn: 62669.9636864\ttotal: 225ms\tremaining: 3.52s\n",
      "3:\tlearn: 52593.9675629\ttotal: 257ms\tremaining: 2.95s\n",
      "4:\tlearn: 46821.1484475\ttotal: 296ms\tremaining: 2.67s\n",
      "5:\tlearn: 44058.9526204\ttotal: 318ms\tremaining: 2.33s\n",
      "6:\tlearn: 41629.1013041\ttotal: 347ms\tremaining: 2.13s\n",
      "7:\tlearn: 36470.3766663\ttotal: 385ms\tremaining: 2.02s\n",
      "8:\tlearn: 35526.8866064\ttotal: 404ms\tremaining: 1.84s\n",
      "9:\tlearn: 34191.6211968\ttotal: 414ms\tremaining: 1.66s\n",
      "10:\tlearn: 32827.8462991\ttotal: 441ms\tremaining: 1.56s\n",
      "11:\tlearn: 29923.5572967\ttotal: 468ms\tremaining: 1.48s\n",
      "12:\tlearn: 29431.4445585\ttotal: 472ms\tremaining: 1.34s\n",
      "13:\tlearn: 28277.0857741\ttotal: 520ms\tremaining: 1.34s\n",
      "14:\tlearn: 27484.7901397\ttotal: 600ms\tremaining: 1.4s\n",
      "15:\tlearn: 26889.8416295\ttotal: 654ms\tremaining: 1.39s\n",
      "16:\tlearn: 24896.3034871\ttotal: 688ms\tremaining: 1.34s\n",
      "17:\tlearn: 24219.0817414\ttotal: 738ms\tremaining: 1.31s\n",
      "18:\tlearn: 23884.2039259\ttotal: 764ms\tremaining: 1.25s\n",
      "19:\tlearn: 23066.6049967\ttotal: 814ms\tremaining: 1.22s\n",
      "20:\tlearn: 22255.5645710\ttotal: 856ms\tremaining: 1.18s\n",
      "21:\tlearn: 22054.2744243\ttotal: 865ms\tremaining: 1.1s\n",
      "22:\tlearn: 21259.7509109\ttotal: 910ms\tremaining: 1.07s\n",
      "23:\tlearn: 21196.2145456\ttotal: 919ms\tremaining: 995ms\n",
      "24:\tlearn: 21093.0707932\ttotal: 926ms\tremaining: 926ms\n",
      "25:\tlearn: 20492.8013037\ttotal: 959ms\tremaining: 885ms\n",
      "26:\tlearn: 20425.3531679\ttotal: 987ms\tremaining: 841ms\n",
      "27:\tlearn: 19855.2856051\ttotal: 1.02s\tremaining: 800ms\n",
      "28:\tlearn: 19670.0891225\ttotal: 1.04s\tremaining: 755ms\n",
      "29:\tlearn: 19462.3947836\ttotal: 1.06s\tremaining: 710ms\n",
      "30:\tlearn: 19077.3901097\ttotal: 1.09s\tremaining: 670ms\n",
      "31:\tlearn: 18886.0921756\ttotal: 1.12s\tremaining: 631ms\n",
      "32:\tlearn: 18845.8961540\ttotal: 1.14s\tremaining: 586ms\n",
      "33:\tlearn: 18800.5880270\ttotal: 1.15s\tremaining: 540ms\n",
      "34:\tlearn: 18405.6812528\ttotal: 1.17s\tremaining: 502ms\n",
      "35:\tlearn: 18309.6047022\ttotal: 1.19s\tremaining: 462ms\n",
      "36:\tlearn: 18165.1773546\ttotal: 1.22s\tremaining: 428ms\n",
      "37:\tlearn: 17832.0397357\ttotal: 1.25s\tremaining: 396ms\n",
      "38:\tlearn: 17803.3557145\ttotal: 1.26s\tremaining: 356ms\n",
      "39:\tlearn: 17675.0070993\ttotal: 1.3s\tremaining: 325ms\n",
      "40:\tlearn: 17417.1488089\ttotal: 1.34s\tremaining: 294ms\n",
      "41:\tlearn: 17232.4579198\ttotal: 1.37s\tremaining: 260ms\n",
      "42:\tlearn: 17011.4351032\ttotal: 1.4s\tremaining: 227ms\n",
      "43:\tlearn: 16816.1025009\ttotal: 1.43s\tremaining: 195ms\n",
      "44:\tlearn: 16582.8795471\ttotal: 1.45s\tremaining: 161ms\n",
      "45:\tlearn: 16479.9663750\ttotal: 1.48s\tremaining: 129ms\n",
      "46:\tlearn: 16277.3973172\ttotal: 1.51s\tremaining: 96.3ms\n",
      "47:\tlearn: 16132.9128536\ttotal: 1.53s\tremaining: 63.8ms\n",
      "48:\tlearn: 15991.2059011\ttotal: 1.56s\tremaining: 31.8ms\n",
      "49:\tlearn: 15915.0102961\ttotal: 1.58s\tremaining: 0us\n"
     ]
    },
    {
     "data": {
      "text/plain": [
       "GridSearchCV(cv=StratifiedKFold(n_splits=5, random_state=2023, shuffle=True),\n",
       "             estimator=<catboost.core.CatBoostRegressor object at 0x00000253DF326970>,\n",
       "             n_jobs=-1,\n",
       "             param_grid={'learning_rate': [0.1, 0.15, 0.3, 0.35, 0.4, 0.5, 0.6],\n",
       "                         'max_depth': [2, 3, 4, 5, 6, 7, 8, 9],\n",
       "                         'n_estimators': [25, 50, 75, 85]},\n",
       "             scoring='r2')"
      ]
     },
     "execution_count": 10,
     "metadata": {},
     "output_type": "execute_result"
    }
   ],
   "source": [
    "cat_gbm = CatBoostRegressor(random_state=2023,)\n",
    "\n",
    "params = {'learning_rate': [0.1, 0.15, 0.3, 0.35, 0.4, 0.5,0.6],\n",
    "          'n_estimators': [25, 50, 75,85],\n",
    "          'max_depth':[2, 3, 4, 5,6,7,8,9]}\n",
    "kfold = StratifiedKFold(n_splits=5, shuffle=True, random_state=2023,)\n",
    "gcv = GridSearchCV(cat_gbm, param_grid=params,\n",
    "                   cv=kfold, scoring='r2',n_jobs=-1)\n",
    "gcv.fit(X_train, y_train)"
   ]
  },
  {
   "cell_type": "code",
   "execution_count": 11,
   "id": "ea3305d1",
   "metadata": {},
   "outputs": [
    {
     "name": "stdout",
     "output_type": "stream",
     "text": [
      "{'learning_rate': 0.4, 'max_depth': 9, 'n_estimators': 50}\n",
      "0.7405551991660142\n"
     ]
    }
   ],
   "source": [
    "print(gcv.best_params_)\n",
    "print(gcv.best_score_)"
   ]
  },
  {
   "cell_type": "code",
   "execution_count": 12,
   "id": "bf4ac8c9",
   "metadata": {},
   "outputs": [
    {
     "name": "stdout",
     "output_type": "stream",
     "text": [
      "0.7215625066967828\n"
     ]
    }
   ],
   "source": [
    "best_model = gcv.best_estimator_\n",
    "y_pred = best_model.predict(X_test)\n",
    "print(r2_score(y_test, y_pred))"
   ]
  },
  {
   "cell_type": "code",
   "execution_count": null,
   "id": "fae06b2c",
   "metadata": {},
   "outputs": [],
   "source": []
  }
 ],
 "metadata": {
  "kernelspec": {
   "display_name": "Python 3 (ipykernel)",
   "language": "python",
   "name": "python3"
  },
  "language_info": {
   "codemirror_mode": {
    "name": "ipython",
    "version": 3
   },
   "file_extension": ".py",
   "mimetype": "text/x-python",
   "name": "python",
   "nbconvert_exporter": "python",
   "pygments_lexer": "ipython3",
   "version": "3.9.13"
  }
 },
 "nbformat": 4,
 "nbformat_minor": 5
}
