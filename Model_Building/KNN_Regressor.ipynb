{
 "cells": [
  {
   "cell_type": "markdown",
   "id": "4f9e2f8b",
   "metadata": {},
   "source": [
    "## KNN Regressor with companyName"
   ]
  },
  {
   "cell_type": "code",
   "execution_count": 58,
   "id": "82e93ee5",
   "metadata": {},
   "outputs": [],
   "source": [
    "import pandas as pd\n",
    "import numpy as np\n",
    "from sklearn.model_selection import train_test_split \n",
    "from sklearn.preprocessing import OneHotEncoder\n",
    "from sklearn.compose import make_column_transformer,make_column_selector\n",
    "from sklearn.model_selection import StratifiedKFold, GridSearchCV\n",
    "from sklearn.metrics import r2_score\n",
    "from sklearn.preprocessing import StandardScaler\n",
    "from sklearn.neighbors import KNeighborsRegressor\n",
    "from sklearn.pipeline import Pipeline\n",
    "\n",
    "import warnings\n",
    "warnings.filterwarnings(\"ignore\")"
   ]
  },
  {
   "cell_type": "code",
   "execution_count": 59,
   "id": "f064cd4b",
   "metadata": {},
   "outputs": [],
   "source": [
    "df=pd.read_csv(\"../Dataset/ProcessedFile.csv\")"
   ]
  },
  {
   "cell_type": "code",
   "execution_count": 60,
   "id": "16bcdbee",
   "metadata": {},
   "outputs": [
    {
     "data": {
      "text/html": [
       "<div>\n",
       "<style scoped>\n",
       "    .dataframe tbody tr th:only-of-type {\n",
       "        vertical-align: middle;\n",
       "    }\n",
       "\n",
       "    .dataframe tbody tr th {\n",
       "        vertical-align: top;\n",
       "    }\n",
       "\n",
       "    .dataframe thead th {\n",
       "        text-align: right;\n",
       "    }\n",
       "</style>\n",
       "<table border=\"1\" class=\"dataframe\">\n",
       "  <thead>\n",
       "    <tr style=\"text-align: right;\">\n",
       "      <th></th>\n",
       "      <th>size_sq_ft</th>\n",
       "      <th>propertyType</th>\n",
       "      <th>bedrooms</th>\n",
       "      <th>latitude</th>\n",
       "      <th>longitude</th>\n",
       "      <th>localityName</th>\n",
       "      <th>suburbName</th>\n",
       "      <th>companyName</th>\n",
       "      <th>closest_metro_station_km</th>\n",
       "      <th>AP_dist_km</th>\n",
       "      <th>Aiims_dist_km</th>\n",
       "      <th>NDRLW_dist_km</th>\n",
       "      <th>price</th>\n",
       "    </tr>\n",
       "  </thead>\n",
       "  <tbody>\n",
       "    <tr>\n",
       "      <th>0</th>\n",
       "      <td>400</td>\n",
       "      <td>Independent Floor</td>\n",
       "      <td>1</td>\n",
       "      <td>28.641010</td>\n",
       "      <td>77.284386</td>\n",
       "      <td>Swasthya Vihar</td>\n",
       "      <td>East Delhi</td>\n",
       "      <td>Other</td>\n",
       "      <td>0.577495</td>\n",
       "      <td>21.741188</td>\n",
       "      <td>11.119239</td>\n",
       "      <td>6.227231</td>\n",
       "      <td>9000</td>\n",
       "    </tr>\n",
       "    <tr>\n",
       "      <th>1</th>\n",
       "      <td>1050</td>\n",
       "      <td>Apartment</td>\n",
       "      <td>2</td>\n",
       "      <td>28.594969</td>\n",
       "      <td>77.298668</td>\n",
       "      <td>mayur vihar phase 1</td>\n",
       "      <td>East Delhi</td>\n",
       "      <td>Other</td>\n",
       "      <td>0.417142</td>\n",
       "      <td>21.401856</td>\n",
       "      <td>9.419061</td>\n",
       "      <td>9.217502</td>\n",
       "      <td>20000</td>\n",
       "    </tr>\n",
       "    <tr>\n",
       "      <th>2</th>\n",
       "      <td>2250</td>\n",
       "      <td>Independent Floor</td>\n",
       "      <td>2</td>\n",
       "      <td>28.641806</td>\n",
       "      <td>77.293922</td>\n",
       "      <td>Swasthya Vihar</td>\n",
       "      <td>East Delhi</td>\n",
       "      <td>Other</td>\n",
       "      <td>0.125136</td>\n",
       "      <td>22.620365</td>\n",
       "      <td>11.829486</td>\n",
       "      <td>7.159184</td>\n",
       "      <td>28000</td>\n",
       "    </tr>\n",
       "    <tr>\n",
       "      <th>3</th>\n",
       "      <td>1350</td>\n",
       "      <td>Independent Floor</td>\n",
       "      <td>2</td>\n",
       "      <td>28.644363</td>\n",
       "      <td>77.293228</td>\n",
       "      <td>Krishna Nagar</td>\n",
       "      <td>East Delhi</td>\n",
       "      <td>Other</td>\n",
       "      <td>0.371709</td>\n",
       "      <td>22.681201</td>\n",
       "      <td>11.982708</td>\n",
       "      <td>7.097348</td>\n",
       "      <td>28000</td>\n",
       "    </tr>\n",
       "    <tr>\n",
       "      <th>4</th>\n",
       "      <td>450</td>\n",
       "      <td>Apartment</td>\n",
       "      <td>2</td>\n",
       "      <td>28.594736</td>\n",
       "      <td>77.311150</td>\n",
       "      <td>New Ashok Nagar</td>\n",
       "      <td>East Delhi</td>\n",
       "      <td>Other</td>\n",
       "      <td>1.087760</td>\n",
       "      <td>22.592810</td>\n",
       "      <td>10.571573</td>\n",
       "      <td>10.263271</td>\n",
       "      <td>12500</td>\n",
       "    </tr>\n",
       "  </tbody>\n",
       "</table>\n",
       "</div>"
      ],
      "text/plain": [
       "   size_sq_ft       propertyType  bedrooms   latitude  longitude  \\\n",
       "0         400  Independent Floor         1  28.641010  77.284386   \n",
       "1        1050          Apartment         2  28.594969  77.298668   \n",
       "2        2250  Independent Floor         2  28.641806  77.293922   \n",
       "3        1350  Independent Floor         2  28.644363  77.293228   \n",
       "4         450          Apartment         2  28.594736  77.311150   \n",
       "\n",
       "          localityName  suburbName companyName  closest_metro_station_km  \\\n",
       "0       Swasthya Vihar  East Delhi       Other                  0.577495   \n",
       "1  mayur vihar phase 1  East Delhi       Other                  0.417142   \n",
       "2       Swasthya Vihar  East Delhi       Other                  0.125136   \n",
       "3        Krishna Nagar  East Delhi       Other                  0.371709   \n",
       "4      New Ashok Nagar  East Delhi       Other                  1.087760   \n",
       "\n",
       "   AP_dist_km  Aiims_dist_km  NDRLW_dist_km  price  \n",
       "0   21.741188      11.119239       6.227231   9000  \n",
       "1   21.401856       9.419061       9.217502  20000  \n",
       "2   22.620365      11.829486       7.159184  28000  \n",
       "3   22.681201      11.982708       7.097348  28000  \n",
       "4   22.592810      10.571573      10.263271  12500  "
      ]
     },
     "execution_count": 60,
     "metadata": {},
     "output_type": "execute_result"
    }
   ],
   "source": [
    "df.head()"
   ]
  },
  {
   "cell_type": "code",
   "execution_count": 61,
   "id": "151a84fd",
   "metadata": {},
   "outputs": [],
   "source": [
    "X = df.drop(['price','localityName'], axis=1)\n",
    "y = df['price']"
   ]
  },
  {
   "cell_type": "code",
   "execution_count": 62,
   "id": "c6708d40",
   "metadata": {},
   "outputs": [],
   "source": [
    "X['propertyType'] = X['propertyType'].map({'Independent Floor':1,\n",
    "                                           'Apartment':2,\n",
    "                                           'Independent House':3,\n",
    "                                           'Villa':4})"
   ]
  },
  {
   "cell_type": "code",
   "execution_count": 63,
   "id": "591abbc4",
   "metadata": {},
   "outputs": [],
   "source": [
    "ohc = OneHotEncoder()\n",
    "ct = make_column_transformer((ohc,\n",
    "       make_column_selector(dtype_include=object)),\n",
    "       (\"passthrough\",\n",
    "        make_column_selector(dtype_include=['int64','float64'])))\n",
    "X_transf = ct.fit_transform(X).toarray()\n",
    "X_transf = pd.DataFrame(X_transf, columns=ct.get_feature_names_out())\n",
    "X_train, X_test, y_train, y_test = train_test_split(X_transf, y,test_size = 0.15, \n",
    "                                                    random_state=2023,\n",
    "                                                    stratify=X['propertyType'])"
   ]
  },
  {
   "cell_type": "code",
   "execution_count": 64,
   "id": "32ec91a6",
   "metadata": {},
   "outputs": [
    {
     "name": "stdout",
     "output_type": "stream",
     "text": [
      "['onehotencoder__suburbName_Central Delhi'\n",
      " 'onehotencoder__suburbName_East Delhi'\n",
      " 'onehotencoder__suburbName_North Delhi'\n",
      " 'onehotencoder__suburbName_North West Delhi'\n",
      " 'onehotencoder__suburbName_Other' 'onehotencoder__suburbName_South Delhi'\n",
      " 'onehotencoder__suburbName_South West Delhi'\n",
      " 'onehotencoder__suburbName_West Delhi'\n",
      " 'onehotencoder__companyName_A R Realtors'\n",
      " 'onehotencoder__companyName_AB Estate'\n",
      " 'onehotencoder__companyName_AMIT CHHABRA'\n",
      " 'onehotencoder__companyName_AMPM Realtors'\n",
      " 'onehotencoder__companyName_AVS Realtors'\n",
      " 'onehotencoder__companyName_Abhishek yadav'\n",
      " 'onehotencoder__companyName_Ahuja properties'\n",
      " 'onehotencoder__companyName_Angel Property Services'\n",
      " 'onehotencoder__companyName_Arjun Raj'\n",
      " 'onehotencoder__companyName_Ashish Bansal'\n",
      " 'onehotencoder__companyName_Ashish Talwar'\n",
      " 'onehotencoder__companyName_Atul Kumar'\n",
      " 'onehotencoder__companyName_B Kumar and Brothers'\n",
      " 'onehotencoder__companyName_Baghla Estates'\n",
      " 'onehotencoder__companyName_Bhagirathi Estate'\n",
      " 'onehotencoder__companyName_Bhawani Estates'\n",
      " 'onehotencoder__companyName_Brickhouse Realty Solutions'\n",
      " 'onehotencoder__companyName_Chetan Narang Properties'\n",
      " 'onehotencoder__companyName_Damajeet Singh'\n",
      " 'onehotencoder__companyName_Delhi dreams properties consultant'\n",
      " 'onehotencoder__companyName_Destination Realty Solutions Private Limited'\n",
      " 'onehotencoder__companyName_Dinesh associates'\n",
      " 'onehotencoder__companyName_Disha Properties'\n",
      " 'onehotencoder__companyName_Faith Realty'\n",
      " 'onehotencoder__companyName_Find A House Real Estate Consultants'\n",
      " 'onehotencoder__companyName_Find Homes'\n",
      " 'onehotencoder__companyName_Gaurav Raj kumar'\n",
      " 'onehotencoder__companyName_Gaurav Singh'\n",
      " 'onehotencoder__companyName_HR Associates'\n",
      " 'onehotencoder__companyName_Handa Properties Paschim Vihar'\n",
      " 'onehotencoder__companyName_Hari Om Group'\n",
      " 'onehotencoder__companyName_India Homes'\n",
      " 'onehotencoder__companyName_India Z Homes'\n",
      " 'onehotencoder__companyName_Investors Boutique'\n",
      " 'onehotencoder__companyName_Jain Builder properties'\n",
      " 'onehotencoder__companyName_Jain Builders Properties'\n",
      " 'onehotencoder__companyName_Jain builders and properties'\n",
      " 'onehotencoder__companyName_Jatin'\n",
      " 'onehotencoder__companyName_Jindal Real Estate'\n",
      " 'onehotencoder__companyName_K C MIDDHA'\n",
      " 'onehotencoder__companyName_Kunal Associates'\n",
      " 'onehotencoder__companyName_Laxmipati Associates PvtLtd'\n",
      " 'onehotencoder__companyName_Mak Realtors Private Limited'\n",
      " 'onehotencoder__companyName_Moneytree real estate consultants'\n",
      " 'onehotencoder__companyName_Mukesh'\n",
      " 'onehotencoder__companyName_NCR Investors'\n",
      " 'onehotencoder__companyName_Navigators Estate'\n",
      " 'onehotencoder__companyName_Nayan Property'\n",
      " 'onehotencoder__companyName_Neon Properties'\n",
      " 'onehotencoder__companyName_Nikhil'\n",
      " 'onehotencoder__companyName_ONS Realtors'\n",
      " 'onehotencoder__companyName_Other'\n",
      " 'onehotencoder__companyName_Panther Properties'\n",
      " 'onehotencoder__companyName_Panworld Property Consultants'\n",
      " 'onehotencoder__companyName_Parmod Jain'\n",
      " 'onehotencoder__companyName_Pathfinder Homes'\n",
      " 'onehotencoder__companyName_Pooja Sood'\n",
      " 'onehotencoder__companyName_Pranav Gupta'\n",
      " 'onehotencoder__companyName_Prime Property'\n",
      " 'onehotencoder__companyName_Property Gallery'\n",
      " 'onehotencoder__companyName_Property Hub'\n",
      " 'onehotencoder__companyName_Property Linkers'\n",
      " 'onehotencoder__companyName_R K Properties Consultants'\n",
      " 'onehotencoder__companyName_R V Properties'\n",
      " 'onehotencoder__companyName_RATHOR PROPERTIES'\n",
      " 'onehotencoder__companyName_RSS DELHI PROPERTY'\n",
      " 'onehotencoder__companyName_Rakesh Kumar Verma'\n",
      " 'onehotencoder__companyName_Ravinder singh'\n",
      " 'onehotencoder__companyName_Realty Centre'\n",
      " 'onehotencoder__companyName_Ritu Estates'\n",
      " 'onehotencoder__companyName_Rohit'\n",
      " 'onehotencoder__companyName_S B Associates'\n",
      " 'onehotencoder__companyName_S K JAIN'\n",
      " 'onehotencoder__companyName_SAHIL CHAWLA'\n",
      " 'onehotencoder__companyName_SUMIT SIKKA'\n",
      " 'onehotencoder__companyName_Sach Consultant'\n",
      " 'onehotencoder__companyName_Sai Real Estate Services Regd'\n",
      " 'onehotencoder__companyName_Sanjay kumar company'\n",
      " 'onehotencoder__companyName_Seema Chaudhary'\n",
      " 'onehotencoder__companyName_Shakuntala Buildcon'\n",
      " 'onehotencoder__companyName_Shubham Home Solutions'\n",
      " 'onehotencoder__companyName_Shyam properties'\n",
      " 'onehotencoder__companyName_Smart Homes'\n",
      " 'onehotencoder__companyName_Sudhir Kumar'\n",
      " 'onehotencoder__companyName_Swastik Properties'\n",
      " 'onehotencoder__companyName_Tarun'\n",
      " 'onehotencoder__companyName_Vicky pareek'\n",
      " 'onehotencoder__companyName_Vikrant Datta'\n",
      " 'onehotencoder__companyName_Viva Estates'\n",
      " 'onehotencoder__companyName_Wadhera Estate'\n",
      " 'onehotencoder__companyName_Yukti' 'onehotencoder__companyName_bhagwan'\n",
      " 'onehotencoder__companyName_caretakers'\n",
      " 'onehotencoder__companyName_charu'\n",
      " 'onehotencoder__companyName_goswami realtors'\n",
      " 'onehotencoder__companyName_hans india real estate'\n",
      " 'onehotencoder__companyName_kartik dev'\n",
      " 'onehotencoder__companyName_kunal'\n",
      " 'onehotencoder__companyName_pransu Srivastava'\n",
      " 'onehotencoder__companyName_sandy' 'onehotencoder__companyName_sanjeev'\n",
      " 'onehotencoder__companyName_vijay mani tripathi'\n",
      " 'passthrough__size_sq_ft' 'passthrough__propertyType'\n",
      " 'passthrough__bedrooms' 'passthrough__latitude' 'passthrough__longitude'\n",
      " 'passthrough__closest_metro_station_km' 'passthrough__AP_dist_km'\n",
      " 'passthrough__Aiims_dist_km' 'passthrough__NDRLW_dist_km']\n"
     ]
    }
   ],
   "source": [
    "print(ct.get_feature_names_out())"
   ]
  },
  {
   "cell_type": "code",
   "execution_count": 65,
   "id": "b76e4fe6",
   "metadata": {},
   "outputs": [],
   "source": [
    "X_train['passthrough__propertyType'] = X_train['passthrough__propertyType'].astype(object)\n",
    "X_test['passthrough__propertyType'] = X_test['passthrough__propertyType'].astype(object)\n",
    "\n",
    "X_train = pd.get_dummies(X_train)\n",
    "X_test = pd.get_dummies(X_test)"
   ]
  },
  {
   "cell_type": "code",
   "execution_count": 66,
   "id": "4a07d09f",
   "metadata": {},
   "outputs": [],
   "source": [
    "# Hyperparameter Tuning"
   ]
  },
  {
   "cell_type": "code",
   "execution_count": 67,
   "id": "861be699",
   "metadata": {},
   "outputs": [
    {
     "data": {
      "text/plain": [
       "GridSearchCV(cv=StratifiedKFold(n_splits=5, random_state=2023, shuffle=True),\n",
       "             estimator=Pipeline(steps=[('STD', StandardScaler()),\n",
       "                                       ('KNN', KNeighborsRegressor())]),\n",
       "             param_grid={'KNN__n_neighbors': array([ 1,  2,  3,  4,  5,  6,  7,  8,  9, 10, 11, 12, 13, 14, 15, 16, 17,\n",
       "       18, 19, 20, 21, 22])},\n",
       "             scoring='r2')"
      ]
     },
     "execution_count": 67,
     "metadata": {},
     "output_type": "execute_result"
    }
   ],
   "source": [
    "kfold = StratifiedKFold(n_splits=5, shuffle=True, random_state=2023)\n",
    "scaler = StandardScaler()\n",
    "knn = KNeighborsRegressor()\n",
    "pipe = Pipeline([('STD', scaler), ('KNN', knn)])\n",
    "Ks = np.arange(1,23)\n",
    "params = {'KNN__n_neighbors':Ks}\n",
    "gcv = GridSearchCV(pipe, param_grid=params, cv=kfold, scoring='r2')\n",
    "gcv.fit(X_train, y_train)"
   ]
  },
  {
   "cell_type": "code",
   "execution_count": 68,
   "id": "18b286a8",
   "metadata": {},
   "outputs": [
    {
     "name": "stdout",
     "output_type": "stream",
     "text": [
      "{'KNN__n_neighbors': 2}\n",
      "0.6552910756634148\n"
     ]
    }
   ],
   "source": [
    "print(gcv.best_params_)\n",
    "print(gcv.best_score_)"
   ]
  },
  {
   "cell_type": "code",
   "execution_count": 69,
   "id": "646ac17e",
   "metadata": {},
   "outputs": [
    {
     "name": "stdout",
     "output_type": "stream",
     "text": [
      "0.6421017366315003\n"
     ]
    }
   ],
   "source": [
    "best_model = gcv.best_estimator_\n",
    "y_pred = best_model.predict(X_test)\n",
    "print(r2_score(y_test, y_pred))"
   ]
  },
  {
   "cell_type": "code",
   "execution_count": null,
   "id": "f25951a3",
   "metadata": {},
   "outputs": [],
   "source": []
  },
  {
   "cell_type": "markdown",
   "id": "3bfb4632",
   "metadata": {},
   "source": [
    "## KNN Regressor without companyName"
   ]
  },
  {
   "cell_type": "code",
   "execution_count": 48,
   "id": "5718d256",
   "metadata": {},
   "outputs": [],
   "source": [
    "X = df.drop(['price','localityName','companyName'], axis=1)\n",
    "y = df['price']"
   ]
  },
  {
   "cell_type": "code",
   "execution_count": 49,
   "id": "ee5bd3c4",
   "metadata": {},
   "outputs": [],
   "source": [
    "X['propertyType'] = X['propertyType'].map({'Independent Floor':1,\n",
    "                                           'Apartment':2,\n",
    "                                           'Independent House':3,\n",
    "                                           'Villa':4})"
   ]
  },
  {
   "cell_type": "code",
   "execution_count": 50,
   "id": "b412b56e",
   "metadata": {},
   "outputs": [],
   "source": [
    "ohc = OneHotEncoder()\n",
    "ct = make_column_transformer((ohc,\n",
    "       make_column_selector(dtype_include=object)),\n",
    "       (\"passthrough\",\n",
    "        make_column_selector(dtype_include=['int64','float64'])))\n",
    "X_transf = ct.fit_transform(X)\n",
    "X_transf = pd.DataFrame(X_transf, columns=ct.get_feature_names_out())\n",
    "X_train, X_test, y_train, y_test = train_test_split(X_transf, y,test_size = 0.15, \n",
    "                                                    random_state=2023,\n",
    "                                                    stratify=X['propertyType'])"
   ]
  },
  {
   "cell_type": "code",
   "execution_count": 51,
   "id": "8add0f65",
   "metadata": {},
   "outputs": [
    {
     "name": "stdout",
     "output_type": "stream",
     "text": [
      "['onehotencoder__suburbName_Central Delhi'\n",
      " 'onehotencoder__suburbName_East Delhi'\n",
      " 'onehotencoder__suburbName_North Delhi'\n",
      " 'onehotencoder__suburbName_North West Delhi'\n",
      " 'onehotencoder__suburbName_Other' 'onehotencoder__suburbName_South Delhi'\n",
      " 'onehotencoder__suburbName_South West Delhi'\n",
      " 'onehotencoder__suburbName_West Delhi' 'passthrough__size_sq_ft'\n",
      " 'passthrough__propertyType' 'passthrough__bedrooms'\n",
      " 'passthrough__latitude' 'passthrough__longitude'\n",
      " 'passthrough__closest_metro_station_km' 'passthrough__AP_dist_km'\n",
      " 'passthrough__Aiims_dist_km' 'passthrough__NDRLW_dist_km']\n"
     ]
    }
   ],
   "source": [
    "print(ct.get_feature_names_out())"
   ]
  },
  {
   "cell_type": "code",
   "execution_count": 52,
   "id": "d5d36a46",
   "metadata": {},
   "outputs": [],
   "source": [
    "X_train['passthrough__propertyType'] = X_train['passthrough__propertyType'].astype(object)\n",
    "X_test['passthrough__propertyType'] = X_test['passthrough__propertyType'].astype(object)\n",
    "\n",
    "X_train = pd.get_dummies(X_train)\n",
    "X_test = pd.get_dummies(X_test)"
   ]
  },
  {
   "cell_type": "code",
   "execution_count": 53,
   "id": "b9c527f2",
   "metadata": {},
   "outputs": [],
   "source": [
    "## Hyperparameter tuninig"
   ]
  },
  {
   "cell_type": "code",
   "execution_count": 54,
   "id": "2ad80001",
   "metadata": {},
   "outputs": [
    {
     "data": {
      "text/plain": [
       "GridSearchCV(cv=StratifiedKFold(n_splits=5, random_state=2023, shuffle=True),\n",
       "             estimator=Pipeline(steps=[('STD', StandardScaler()),\n",
       "                                       ('KNN', KNeighborsRegressor())]),\n",
       "             param_grid={'KNN__n_neighbors': array([ 1,  2,  3,  4,  5,  6,  7,  8,  9, 10, 11, 12, 13, 14, 15, 16, 17,\n",
       "       18, 19, 20, 21, 22])},\n",
       "             scoring='r2')"
      ]
     },
     "execution_count": 54,
     "metadata": {},
     "output_type": "execute_result"
    }
   ],
   "source": [
    "kfold = StratifiedKFold(n_splits=5, shuffle=True, random_state=2023)\n",
    "scaler = StandardScaler()\n",
    "knn = KNeighborsRegressor()\n",
    "pipe = Pipeline([('STD', scaler), ('KNN', knn)])\n",
    "Ks = np.arange(1,23)\n",
    "params = {'KNN__n_neighbors':Ks}\n",
    "gcv = GridSearchCV(pipe, param_grid=params, cv=kfold, scoring='r2')\n",
    "gcv.fit(X_train, y_train)"
   ]
  },
  {
   "cell_type": "code",
   "execution_count": 56,
   "id": "5afb7704",
   "metadata": {},
   "outputs": [
    {
     "name": "stdout",
     "output_type": "stream",
     "text": [
      "{'KNN__n_neighbors': 1}\n",
      "0.4991673527131183\n"
     ]
    }
   ],
   "source": [
    "print(gcv.best_params_)\n",
    "print(gcv.best_score_)"
   ]
  },
  {
   "cell_type": "code",
   "execution_count": 57,
   "id": "455978c6",
   "metadata": {},
   "outputs": [
    {
     "name": "stdout",
     "output_type": "stream",
     "text": [
      "0.5179842595620022\n"
     ]
    }
   ],
   "source": [
    "best_model = gcv.best_estimator_\n",
    "y_pred = best_model.predict(X_test)\n",
    "print(r2_score(y_test, y_pred))"
   ]
  },
  {
   "cell_type": "code",
   "execution_count": null,
   "id": "b6bf7a24",
   "metadata": {},
   "outputs": [],
   "source": []
  }
 ],
 "metadata": {
  "kernelspec": {
   "display_name": "Python 3 (ipykernel)",
   "language": "python",
   "name": "python3"
  },
  "language_info": {
   "codemirror_mode": {
    "name": "ipython",
    "version": 3
   },
   "file_extension": ".py",
   "mimetype": "text/x-python",
   "name": "python",
   "nbconvert_exporter": "python",
   "pygments_lexer": "ipython3",
   "version": "3.9.13"
  }
 },
 "nbformat": 4,
 "nbformat_minor": 5
}
